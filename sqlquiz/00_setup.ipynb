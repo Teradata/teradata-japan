{
 "cells": [
  {
   "cell_type": "code",
   "execution_count": 1,
   "id": "ecacfb12-9494-4cea-ab13-43ffa6a9be3d",
   "metadata": {},
   "outputs": [
    {
     "name": "stdout",
     "output_type": "stream",
     "text": [
      "\n",
      "\u001b[1m[\u001b[0m\u001b[34;49mnotice\u001b[0m\u001b[1;39;49m]\u001b[0m\u001b[39;49m A new release of pip is available: \u001b[0m\u001b[31;49m23.0.1\u001b[0m\u001b[39;49m -> \u001b[0m\u001b[32;49m24.0\u001b[0m\n",
      "\u001b[1m[\u001b[0m\u001b[34;49mnotice\u001b[0m\u001b[1;39;49m]\u001b[0m\u001b[39;49m To update, run: \u001b[0m\u001b[32;49mpip install --upgrade pip\u001b[0m\n",
      "Note: you may need to restart the kernel to use updated packages.\n"
     ]
    },
    {
     "name": "stdin",
     "output_type": "stream",
     "text": [
      "Password: ········\n"
     ]
    },
    {
     "name": "stderr",
     "output_type": "stream",
     "text": [
      "Connection parameters are saved at '_connect-info.json'. Since it contains your password, use it with care.\n",
      "Create database 'facilities': 100%|███████████████| 3/3 [00:09<00:00,  3.17s/it]\n",
      "Create table 'teradata_offices': 100%|██████████| 11/11 [03:56<00:00, 21.54s/it]\n"
     ]
    },
    {
     "name": "stdout",
     "output_type": "stream",
     "text": [
      "We are ready!\n"
     ]
    },
    {
     "data": {
      "text/html": [
       "<div>\n",
       "<style scoped>\n",
       "    .dataframe tbody tr th:only-of-type {\n",
       "        vertical-align: middle;\n",
       "    }\n",
       "\n",
       "    .dataframe tbody tr th {\n",
       "        vertical-align: top;\n",
       "    }\n",
       "\n",
       "    .dataframe thead th {\n",
       "        text-align: right;\n",
       "    }\n",
       "</style>\n",
       "<table border=\"1\" class=\"dataframe\">\n",
       "  <thead>\n",
       "    <tr style=\"text-align: right;\">\n",
       "      <th></th>\n",
       "      <th>User</th>\n",
       "      <th>Session</th>\n",
       "      <th>Current TimeStamp(6)</th>\n",
       "    </tr>\n",
       "  </thead>\n",
       "  <tbody>\n",
       "    <tr>\n",
       "      <th>0</th>\n",
       "      <td>DEMO_USER</td>\n",
       "      <td>3886</td>\n",
       "      <td>2024-05-04 16:30:30.340000+00:00</td>\n",
       "    </tr>\n",
       "  </tbody>\n",
       "</table>\n",
       "</div>"
      ],
      "text/plain": [
       "        User  Session             Current TimeStamp(6)\n",
       "0  DEMO_USER     3886 2024-05-04 16:30:30.340000+00:00"
      ]
     },
     "execution_count": 1,
     "metadata": {},
     "output_type": "execute_result"
    }
   ],
   "source": [
    "# Install utility package and the dependencies\n",
    "%pip install -q ./tdquiz\n",
    "\n",
    "\n",
    "# Set the connection information (edit here as needed)\n",
    "from getpass import getpass\n",
    "host = \"demoenv1-4jh1kvjmsjl16b98.env.clearscape.teradata.com\"\n",
    "user = \"demo_user\"\n",
    "password = getpass(\"Password:\" )\n",
    "\n",
    "\n",
    "# Generate data\n",
    "from tdquiz import setup_tdquiz\n",
    "setup_tdquiz(host=host, user=user, password=password,\n",
    "             db_if_exists=\"modify\", table_if_exists=\"replace\")\n",
    "\n",
    "\n",
    "# Test tdquiz magic command\n",
    "%load_ext tdquiz\n",
    "%tdquiz SELECT USER, SESSION, CURRENT_TIMESTAMP"
   ]
  },
  {
   "cell_type": "code",
   "execution_count": null,
   "id": "516f5de6-dc7b-440e-907d-d4cd7febf867",
   "metadata": {},
   "outputs": [],
   "source": []
  }
 ],
 "metadata": {
  "kernelspec": {
   "display_name": "Python (sandbox)",
   "language": "python",
   "name": "sandbox"
  },
  "language_info": {
   "codemirror_mode": {
    "name": "ipython",
    "version": 3
   },
   "file_extension": ".py",
   "mimetype": "text/x-python",
   "name": "python",
   "nbconvert_exporter": "python",
   "pygments_lexer": "ipython3",
   "version": "3.10.12"
  }
 },
 "nbformat": 4,
 "nbformat_minor": 5
}
