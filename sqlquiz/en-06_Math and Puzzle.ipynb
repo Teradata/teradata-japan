{
 "cells": [
  {
   "cell_type": "markdown",
   "id": "6e555e3f",
   "metadata": {},
   "source": [
    "# Math and Puzzle"
   ]
  },
  {
   "cell_type": "code",
   "execution_count": null,
   "id": "710a7959",
   "metadata": {},
   "outputs": [],
   "source": [
    "# Run this cell to load the tdquiz magic command, that runs queries and return the results.\n",
    "%load_ext tdquiz\n",
    "\n",
    "# Test tdquiz magic command\n",
    "%tdquiz SELECT USER, SESSION, CURRENT_TIMESTAMP"
   ]
  },
  {
   "cell_type": "markdown",
   "id": "16c6d75e",
   "metadata": {},
   "source": [
    "<h3>Fibonacci sequence (recursive query)</h3><span class=\"tag\" style=\"font-size: smaller; background-color: #dddddd; color: #222222\">recursive</span> <span class=\"tag\" style=\"font-size: smaller; background-color: #dddddd; color: #222222\">math</span>\n",
    "<br>\n",
    "The Fibonacci sequence is defined as below:\n",
    "<br />\n",
    "F<sub>1</sub> = 1, F<sub>2</sub> = 1 and for n > 2,\n",
    "<br />\n",
    "F<sub>n+2</sub> = F<sub>n</sub> + F<sub>n+1</sub>\n",
    "<br /><br />\n",
    "I.e., the sum of the last two elements is the next number.\n",
    "For example, F<sub>3</sub> = F<sub>2</sub> + F<sub>1</sub> = 1 + 1 = 2$, and F<sub>4</sub> = F<sub>3</sub> + F<sub>2</sub> = 2 + 1 = 3.\n",
    "<br /><br />\n",
    "Please generate the Fibonacci sequence from F<sub>1</sub> to F<sub>20</sub> (sort the result in the ascending order).\n",
    "<br />\n",
    "Although there are many ways to generate the Fibonacci numbers, please try generating them using the <em>WITH RECURSIVE</em> syntax.\n",
    "<details><summary>Hint</summary>By describing the start data of WITH RECURSIVE as follows, it can be executed without referring to the existing table.<br />\n",
    "<pre class=\"sql-code\">\n",
    "  select\n",
    "    idx\n",
    "    ,val1\n",
    "    ,val2\n",
    "    ,fibonacci_number\n",
    "  from\n",
    "    ( select\n",
    "       1 as idx\n",
    "      ,0(integer) as val1\n",
    "      ,0(integer) as val2\n",
    "      ,1(integer) as fibonacci_number\n",
    "    ) as root\n",
    "</pre></details>\n",
    "<details><summary>Answer</summary><pre style=\"margin: 1em 0; padding: 1em; border-radius: 5px; background-color: #25292f; white-space: pre-wrap;\"><code style=\"background-color: #25292f; color: #ffffff\">with recursive rec_tmp ( idx, val1, val2, fibonacci_number) as (\n",
    "  select\n",
    "    idx\n",
    "    ,val1\n",
    "    ,val2\n",
    "    ,fibonacci_number\n",
    "  from\n",
    "    ( select\n",
    "       1 as idx\n",
    "      ,0(integer) as val1\n",
    "      ,0(integer) as val2\n",
    "      ,1(integer) as fibonacci_number\n",
    "    ) as root\n",
    "  union all\n",
    "  select\n",
    "    idx + 1 as idx\n",
    "    ,val2\n",
    "    ,fibonacci_number\n",
    "    ,val2 + fibonacci_number\n",
    "  from\n",
    "    rec_tmp \n",
    "  where\n",
    "    idx < 20\n",
    ")\n",
    "select fibonacci_number from\n",
    "  rec_tmp;</code></pre></details>"
   ]
  },
  {
   "cell_type": "code",
   "execution_count": null,
   "id": "9d117dce",
   "metadata": {},
   "outputs": [],
   "source": [
    "%%tdquiz\n",
    "/* Write your query blow */\n",
    "\n",
    "\n",
    "\n",
    "\n"
   ]
  },
  {
   "cell_type": "markdown",
   "id": "3fcbac87",
   "metadata": {},
   "source": [
    "<h3>Pytagolas Theorem</h3><span class=\"tag\" style=\"font-size: smaller; background-color: #dddddd; color: #222222\">geospatial</span> <span class=\"tag\" style=\"font-size: smaller; background-color: #dddddd; color: #222222\">math</span>\n",
    "<br>\n",
    "Generate geometry objects representing the points (0,4) and (3,0), and calculate the distance between them.\n",
    "Is it consistent with the Pythagorean Theorem?\n",
    "<details><summary>Hint</summary><ul>\n",
    "<li><a href=\"https://docs.teradata.com/r/Teradata-VantageTM-Geospatial-Data-Types/July-2021/ST_Geometry-Constructors-and-Methods/ST_Distance-Method\" rel=\"noopener noreferrer\" target=\"_blank\">ST_DISTANCE (manual)</a>\n",
    "<li><a href=\"https://en.wikipedia.org/wiki/Pythagorean_theorem\" rel=\"noopener noreferrer\" target=\"_blank\">Pythagorean Theorem (Wikipedia)</a>\n",
    "</ul></details>\n",
    "<details><summary>Answer</summary><pre style=\"margin: 1em 0; padding: 1em; border-radius: 5px; background-color: #25292f; white-space: pre-wrap;\"><code style=\"background-color: #25292f; color: #ffffff\">WITH tmp AS (\n",
    "  SELECT\n",
    "    NEW ST_Geometry('ST_Point', 0, 4) AS x,\n",
    "    NEW ST_Geometry('ST_Point', 3, 0) AS y\n",
    ")\n",
    "SELECT x.ST_DISTANCE(y) AS len FROM tmp</code></pre></details>"
   ]
  },
  {
   "cell_type": "code",
   "execution_count": null,
   "id": "b2620487",
   "metadata": {},
   "outputs": [],
   "source": [
    "%%tdquiz\n",
    "/* Write your query blow */\n",
    "\n",
    "\n",
    "\n",
    "\n"
   ]
  },
  {
   "cell_type": "markdown",
   "id": "fe9d04d5",
   "metadata": {},
   "source": [
    "<h3>When did \"みどりの日 (Greenery Day)\" change?</h3><span class=\"tag\" style=\"font-size: smaller; background-color: #dddddd; color: #222222\">date</span> <span class=\"tag\" style=\"font-size: smaller; background-color: #dddddd; color: #222222\">time-series</span>\n",
    "<br>\n",
    "<em>japan.japan_holidays</em> table stores the Japan's national holidays since 1955.\n",
    "Among which, the date of \"みどりの日 (Greenery day)\" has been changed at some time.\n",
    "Please find the years of the change and output a table of 2 rows and 2 columns, \n",
    "where the first column is the year (integer) and the second column is the date of Greenery day (string of MM/DD format).\n",
    "<details><summary>Hint</summary><ul>\n",
    "<li><a href=\"https://www8.cao.go.jp/chosei/shukujitsu/gaiyou.html\" rel=\"noopener noreferrer\" target=\"_blank\">Data source (the Cabinet Office of Japan)</a>\n",
    "</ul></details>\n",
    "<details><summary>Answer</summary><pre style=\"margin: 1em 0; padding: 1em; border-radius: 5px; background-color: #25292f; white-space: pre-wrap;\"><code style=\"background-color: #25292f; color: #ffffff\">WITH tmp AS (\n",
    "  SELECT\n",
    "    EXTRACT(YEAR FROM calendar_date) AS \"year\",\n",
    "    CAST(CAST(calendar_date AS FORMAT 'MM/DD') AS VARCHAR(5)) AS \"date\"\n",
    "  FROM\n",
    "    japan.japan_holidays\n",
    "  WHERE\n",
    "    holiday_name = 'みどりの日'\n",
    ")\n",
    "SELECT\n",
    "  *\n",
    "FROM\n",
    "  tmp\n",
    "QUALIFY\n",
    "  LAG(\"date\") OVER(ORDER BY \"year\") <> \"date\"\n",
    "  OR LEAD(\"date\") OVER(ORDER BY \"year\") <> \"date\"</code></pre></details>"
   ]
  },
  {
   "cell_type": "code",
   "execution_count": null,
   "id": "7f4771c1",
   "metadata": {},
   "outputs": [],
   "source": [
    "%%tdquiz\n",
    "/* Write your query blow */\n",
    "\n",
    "\n",
    "\n",
    "\n"
   ]
  }
 ],
 "metadata": {},
 "nbformat": 4,
 "nbformat_minor": 5
}
