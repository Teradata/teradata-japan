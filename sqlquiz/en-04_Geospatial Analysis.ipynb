{
 "cells": [
  {
   "cell_type": "markdown",
   "id": "62f7f761",
   "metadata": {},
   "source": [
    "# Geospatial Analysis"
   ]
  },
  {
   "cell_type": "code",
   "execution_count": null,
   "id": "93b997e9",
   "metadata": {},
   "outputs": [],
   "source": [
    "# Run this cell to load the tdquiz magic command, that runs queries and return the results.\n",
    "%load_ext tdquiz\n",
    "\n",
    "# Test tdquiz magic command\n",
    "%tdquiz SELECT USER, SESSION, CURRENT_TIMESTAMP"
   ]
  },
  {
   "cell_type": "markdown",
   "id": "fe10fcc3",
   "metadata": {},
   "source": [
    "<h3>Distance between two Offices</h3><span class=\"tag\" style=\"font-size: smaller; background-color: #dddddd; color: #222222\">geospatial</span> <span class=\"tag\" style=\"font-size: smaller; background-color: #dddddd; color: #222222\">distance</span>\n",
    "<br>\n",
    "<em>facilities.teradata_offices</em> table stores the locations of Teradata offices.\n",
    "Two of them are in Japan.\n",
    "Calculate the distance between the two Japan offices in kilometers.\n",
    "Note that we use the <a href=\"https://en.wikipedia.org/wiki/Great-circle_distance\" rel=\"noopener noreferrer\" target=\"_blank\">Great-cirle distance formula</a> for this calculation.\n",
    "<details><summary>Hint</summary><ul>\n",
    "<li><a href=\"https://docs.teradata.com/r/Teradata-VantageTM-Geospatial-Data-Types-17.20/ST_Point-Methods/ST_SphericalDistance\" rel=\"noopener noreferrer\" target=\"_blank\">Geospatial Data Types (manual)</a>\n",
    "</ul></details>\n",
    "<details><summary>Answer</summary><pre style=\"margin: 1em 0; padding: 1em; border-radius: 5px; background-color: #25292f; white-space: pre-wrap;\"><code style=\"background-color: #25292f; color: #ffffff\">SELECT\n",
    "  (NEW ST_Geometry('ST_Point', a.longitude, a.latitude)).ST_SphericalDistance(\n",
    "    NEW ST_Geometry('ST_Point', b.longitude, b.latitude)) / 1000 AS distance_km\n",
    "FROM\n",
    "  facilities.teradata_offices AS a\n",
    "  INNER JOIN facilities.teradata_offices AS b\n",
    "    ON a.office_name < b.office_name\n",
    "       AND a.country = 'jpn'\n",
    "       AND b.country = 'jpn'</code></pre></details>"
   ]
  },
  {
   "cell_type": "code",
   "execution_count": null,
   "id": "128e4c4e",
   "metadata": {},
   "outputs": [],
   "source": [
    "%%tdquiz\n",
    "/* Write your query blow */\n",
    "\n",
    "\n",
    "\n",
    "\n"
   ]
  },
  {
   "cell_type": "markdown",
   "id": "6fca670b",
   "metadata": {},
   "source": [
    "<h3>Shinkansen station in a village</h3><span class=\"tag\" style=\"font-size: smaller; background-color: #dddddd; color: #222222\">geospatial</span> <span class=\"tag\" style=\"font-size: smaller; background-color: #dddddd; color: #222222\">join</span>\n",
    "<br>\n",
    "Find all shinkansen stations located in a village, and display the line name, the prefecture name, the village name and the station name.\n",
    "<details><summary>Hint</summary><ul>\n",
    "<li><em>japan.cities</em>, <em>facilities.stations</em>, <em>facilities.shinkansen</em>\n",
    "<li>What method would be relevant for geometries being contained?\n",
    "<li><a href=\"https://docs.teradata.com/r/Teradata-VantageTM-Geospatial-Data-Types/July-2021/ST_Geometry-Constructors-and-Methods\" rel=\"noopener noreferrer\" target=\"_blank\">Geometry methods (manual)</a>\n",
    "</ul></details>\n",
    "<details><summary>Answer</summary><pre style=\"margin: 1em 0; padding: 1em; border-radius: 5px; background-color: #25292f; white-space: pre-wrap;\"><code style=\"background-color: #25292f; color: #ffffff\">SELECT\n",
    "  s.line_name,\n",
    "  c.pref_name,\n",
    "  c.city_name,\n",
    "  s.station_name\n",
    "FROM\n",
    "  facilities.stations AS s\n",
    "  INNER JOIN japan.cities AS c\n",
    "    ON c.geometry.ST_INTERSECTS(s.geometry) = 1\n",
    "WHERE \n",
    "  s.line_name IN ( SELECT DISTINCT line_name FROM facilities.shinkansen )\n",
    "  AND RIGHT(c.city_name, 1) = '村'</code></pre></details>"
   ]
  },
  {
   "cell_type": "code",
   "execution_count": null,
   "id": "c98ec183",
   "metadata": {},
   "outputs": [],
   "source": [
    "%%tdquiz\n",
    "/* Write your query blow */\n",
    "\n",
    "\n",
    "\n",
    "\n"
   ]
  },
  {
   "cell_type": "markdown",
   "id": "011ffc98",
   "metadata": {},
   "source": [
    "<h3>Stations at ends</h3><span class=\"tag\" style=\"font-size: smaller; background-color: #dddddd; color: #222222\">geospatial</span>\n",
    "<br>\n",
    "What are the northmost, southmost, westmost, and eastmost stations in Japan?\n",
    "<details><summary>Hint</summary><ul>\n",
    "<li>Check out <em>ST_X, ST_Y</em>.\n",
    "<li><a href=\"https://docs.teradata.com/r/Teradata-VantageTM-Geospatial-Data-Types/July-2021/ST_Geometry-Constructors-and-Methods\" rel=\"noopener noreferrer\" target=\"_blank\">Geometry methods (manual)</a>\n",
    "<li><a href=\"https://tabi-mag.jp/station-news/\" rel=\"noopener noreferrer\" target=\"_blank\">Maybe after you solve this!</a>\n",
    "</ul></details>\n",
    "<details><summary>Answer</summary><pre style=\"margin: 1em 0; padding: 1em; border-radius: 5px; background-color: #25292f; white-space: pre-wrap;\"><code style=\"background-color: #25292f; color: #ffffff\">with ends AS (\n",
    "  SELECT\n",
    "    MIN(geometry.ST_X()) AS east_end,\n",
    "    MAX(geometry.ST_X()) AS west_end,\n",
    "    MIN(geometry.ST_Y()) AS south_end,\n",
    "    MAX(geometry.ST_Y()) AS north_end\n",
    "  FROM\n",
    "    facilities.stations\n",
    ")\n",
    "SELECT\n",
    "  north.station_name AS northmost,\n",
    "  south.station_name AS southmost,\n",
    "  west.station_name AS westmost,\n",
    "  east.station_name AS eastmost\n",
    "FROM\n",
    "  ends\n",
    "  INNER JOIN facilities.stations AS east ON east.geometry.ST_X() = ends.east_end\n",
    "  INNER JOIN facilities.stations AS west ON west.geometry.ST_X() = ends.west_end\n",
    "  INNER JOIN facilities.stations AS north ON north.geometry.ST_Y() = ends.north_end\n",
    "  INNER JOIN facilities.stations AS south ON south.geometry.ST_Y() = ends.south_end</code></pre></details>"
   ]
  },
  {
   "cell_type": "code",
   "execution_count": null,
   "id": "a8a07704",
   "metadata": {},
   "outputs": [],
   "source": [
    "%%tdquiz\n",
    "/* Write your query blow */\n",
    "\n",
    "\n",
    "\n",
    "\n"
   ]
  },
  {
   "cell_type": "markdown",
   "id": "affa22ee",
   "metadata": {},
   "source": [
    "<h3>Prefectures where shinkansen passes through</h3><span class=\"tag\" style=\"font-size: smaller; background-color: #dddddd; color: #222222\">geospatial</span> <span class=\"tag\" style=\"font-size: smaller; background-color: #dddddd; color: #222222\">join</span>\n",
    "<br>\n",
    "Extract prefectures where shinkansen visits, and calculate the number of shinkansen station in them.\n",
    "Are there any prefectures where shinkansen just passes through with stopping on no station?\n",
    "Display the prefecture name and the number of shinkansen stations, sorted by the number of the stations and the prefecture name.\n",
    "<details><summary>Hint</summary><ul>\n",
    "<li><em>japan.cities</em>, <em>facilities.stations</em>, <em>facilities.shinkansen</em>\n",
    "<li>What method would be relevant for geometries being contained?\n",
    "<li><a href=\"https://docs.teradata.com/r/Teradata-VantageTM-Geospatial-Data-Types/July-2021/ST_Geometry-Constructors-and-Methods\" rel=\"noopener noreferrer\" target=\"_blank\">Geometry methods (manual)</a>\n",
    "<li><a href=\"https://news.mynavi.jp/article/trivia-435/\" rel=\"noopener noreferrer\" target=\"_blank\">Maybe after you solve the question!</a>\n",
    "</ul></details>\n",
    "<details><summary>Answer</summary><pre style=\"margin: 1em 0; padding: 1em; border-radius: 5px; background-color: #25292f; white-space: pre-wrap;\"><code style=\"background-color: #25292f; color: #ffffff\">WITH tmp AS (\n",
    "  SELECT DISTINCT\n",
    "    p.pref_name\n",
    "  FROM\n",
    "    japan.prefectures AS p\n",
    "    INNER JOIN facilities.shinkansen AS s\n",
    "      ON p.geometry.ST_INTERSECTS(s.geometry) = 1\n",
    "),\n",
    "tmp2 AS (\n",
    "  SELECT\n",
    "    p.pref_name, count(*) AS num_stations\n",
    "  FROM\n",
    "    facilities.stations AS s\n",
    "    INNER JOIN japan.prefectures AS p\n",
    "      ON p.geometry.ST_INTERSECTS(s.geometry) = 1\n",
    "  WHERE\n",
    "    s.line_name IN ( SELECT DISTINCT line_name FROM facilities.shinkansen )\n",
    "  GROUP BY 1\n",
    ")\n",
    "SELECT\n",
    "  a.pref_name,\n",
    "  COALESCE(b.num_stations, 0) AS num_stations\n",
    "FROM\n",
    "  tmp AS a LEFT JOIN tmp2 AS b ON a.pref_name = b.pref_name\n",
    "ORDER BY 2,1</code></pre></details>"
   ]
  },
  {
   "cell_type": "code",
   "execution_count": null,
   "id": "1c7685ca",
   "metadata": {},
   "outputs": [],
   "source": [
    "%%tdquiz\n",
    "/* Write your query blow */\n",
    "\n",
    "\n",
    "\n",
    "\n"
   ]
  },
  {
   "cell_type": "markdown",
   "id": "d568974b",
   "metadata": {},
   "source": [
    "<h3>Disjoint cities</h3><span class=\"tag\" style=\"font-size: smaller; background-color: #dddddd; color: #222222\">geospatial</span>\n",
    "<br>\n",
    "Some municipalities consists of multiple disjoint parts.\n",
    "Show the names of all municipalites in Gumma (群馬) prefecture.\n",
    "<details><summary>Hint</summary><ul>\n",
    "<li>Use <em>japan.cities</em>\n",
    "<li><a href=\"https://docs.teradata.com/r/Teradata-VantageTM-Geospatial-Data-Types/July-2021/ST_Geometry-Constructors-and-Methods/ST_GeometryType-Method\" rel=\"noopener noreferrer\" target=\"_blank\">ST_GeometryType (マニュアル)</a>\n",
    "<li>What geometry type represents disjoint parts with areas?\n",
    "<li><a href=\"https://ja.wikipedia.org/wiki/%E9%A3%9B%E5%9C%B0\" rel=\"noopener noreferrer\" target=\"_blank\">飛び地 (Wikipedia)</a>\n",
    "</ul></details>\n",
    "<details><summary>Answer</summary><pre style=\"margin: 1em 0; padding: 1em; border-radius: 5px; background-color: #25292f; white-space: pre-wrap;\"><code style=\"background-color: #25292f; color: #ffffff\">SELECT\n",
    "  pref_name, city_name\n",
    "FROM\n",
    "  japan.cities\n",
    "WHERE\n",
    "  pref_name = '群馬県'\n",
    "  AND geometry.ST_GeometryType() = 'ST_MultiPolygon'</code></pre></details>"
   ]
  },
  {
   "cell_type": "code",
   "execution_count": null,
   "id": "22324bbe",
   "metadata": {},
   "outputs": [],
   "source": [
    "%%tdquiz\n",
    "/* Write your query blow */\n",
    "\n",
    "\n",
    "\n",
    "\n"
   ]
  },
  {
   "cell_type": "markdown",
   "id": "da174baa",
   "metadata": {},
   "source": [
    "<h3>All geometry columns\n",
    "</h3><span class=\"tag\" style=\"font-size: smaller; background-color: #dddddd; color: #222222\">teradata-specific</span> <span class=\"tag\" style=\"font-size: smaller; background-color: #dddddd; color: #222222\">ddl</span>\n",
    "<br>\n",
    "Show all columns of geometry type (ST_Geometry) in the tables in the database <em>japan</em>, <em>facilities</em>, and <em>TeraShirt</em>.\n",
    "Display the database name, the table name, and the geometry column name.\n",
    "<details><summary>Hint</summary>Check out <em>dbc.ColumnsV</em>.</details>\n",
    "<details><summary>Answer</summary><pre style=\"margin: 1em 0; padding: 1em; border-radius: 5px; background-color: #25292f; white-space: pre-wrap;\"><code style=\"background-color: #25292f; color: #ffffff\">SELECT\n",
    "  databaseName, tableName, columnName\n",
    "FROM\n",
    "  dbc.ColumnsV\n",
    "WHERE\n",
    "  columnUDTName = 'ST_GEOMETRY'\n",
    "  AND databaseName IN ('japan', 'facilities', 'TeraShirt')</code></pre></details>"
   ]
  },
  {
   "cell_type": "code",
   "execution_count": null,
   "id": "906f76ff",
   "metadata": {},
   "outputs": [],
   "source": [
    "%%tdquiz\n",
    "/* Write your query blow */\n",
    "\n",
    "\n",
    "\n",
    "\n"
   ]
  }
 ],
 "metadata": {},
 "nbformat": 4,
 "nbformat_minor": 5
}
