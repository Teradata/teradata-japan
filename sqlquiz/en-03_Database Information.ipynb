{
 "cells": [
  {
   "cell_type": "markdown",
   "id": "f1434a34",
   "metadata": {},
   "source": [
    "# Database Information"
   ]
  },
  {
   "cell_type": "code",
   "execution_count": null,
   "id": "9d864368",
   "metadata": {},
   "outputs": [],
   "source": [
    "# Run this cell to load the tdquiz magic command, that runs queries and return the results.\n",
    "%load_ext tdquiz\n",
    "\n",
    "# Test tdquiz magic command\n",
    "%tdquiz SELECT USER, SESSION, CURRENT_TIMESTAMP"
   ]
  },
  {
   "cell_type": "markdown",
   "id": "0354a9f4",
   "metadata": {},
   "source": [
    "<h3>Teradata Session Number</h3><span class=\"tag\" style=\"font-size: smaller; background-color: #dddddd; color: #222222\">teradata-specific</span>\n",
    "<br>\n",
    "When you connect to the teradata database, you will be assigned a session number. <br/>\n",
    "Show the session number of the current teradata database connection. <br/>\n",
    "Note that the session number is a single integer value.\n",
    "\n",
    "<details><summary>Answer</summary><pre style=\"margin: 1em 0; padding: 1em; border-radius: 5px; background-color: #25292f; white-space: pre-wrap;\"><code style=\"background-color: #25292f; color: #ffffff\">SELECT SESSION AS session_number</code></pre></details>"
   ]
  },
  {
   "cell_type": "code",
   "execution_count": null,
   "id": "c275731f",
   "metadata": {},
   "outputs": [],
   "source": [
    "%%tdquiz\n",
    "/* Write your query blow */\n",
    "\n",
    "\n",
    "\n",
    "\n"
   ]
  },
  {
   "cell_type": "markdown",
   "id": "d6457edc",
   "metadata": {},
   "source": [
    "<h3>Which Version of Teradata am I using?</h3><span class=\"tag\" style=\"font-size: smaller; background-color: #dddddd; color: #222222\">teradata-specific</span>\n",
    "<br>\n",
    "Show the version of Terdata database we are using.\n",
    "\n",
    "<details><summary>Answer</summary><pre style=\"margin: 1em 0; padding: 1em; border-radius: 5px; background-color: #25292f; white-space: pre-wrap;\"><code style=\"background-color: #25292f; color: #ffffff\">SELECT InfoData\n",
    "FROM dbc.dbcinfo\n",
    "WHERE InfoKey = 'VERSION'</code></pre></details>"
   ]
  },
  {
   "cell_type": "code",
   "execution_count": null,
   "id": "5a404b5b",
   "metadata": {},
   "outputs": [],
   "source": [
    "%%tdquiz\n",
    "/* Write your query blow */\n",
    "\n",
    "\n",
    "\n",
    "\n"
   ]
  },
  {
   "cell_type": "markdown",
   "id": "ffe8afd1",
   "metadata": {},
   "source": [
    "<h3>Table definition\n",
    "</h3><span class=\"tag\" style=\"font-size: smaller; background-color: #dddddd; color: #222222\">teradata-specific</span> <span class=\"tag\" style=\"font-size: smaller; background-color: #dddddd; color: #222222\">ddl</span>\n",
    "<br>\n",
    "Show the definition of the <em>japan.cities</em> table.\n",
    "<details><summary>Hint</summary>Think about <em>SHOW TABLE</em> syntax.</details>\n",
    "<details><summary>Answer</summary><pre style=\"margin: 1em 0; padding: 1em; border-radius: 5px; background-color: #25292f; white-space: pre-wrap;\"><code style=\"background-color: #25292f; color: #ffffff\">SHOW TABLE japan.cities</code></pre></details>"
   ]
  },
  {
   "cell_type": "code",
   "execution_count": null,
   "id": "c53abd16",
   "metadata": {},
   "outputs": [],
   "source": [
    "%%tdquiz\n",
    "/* Write your query blow */\n",
    "\n",
    "\n",
    "\n",
    "\n"
   ]
  },
  {
   "cell_type": "markdown",
   "id": "fd66e079",
   "metadata": {},
   "source": [
    "<h3>View definition\n",
    "</h3><span class=\"tag\" style=\"font-size: smaller; background-color: #dddddd; color: #222222\">teradata-specific</span> <span class=\"tag\" style=\"font-size: smaller; background-color: #dddddd; color: #222222\">ddl</span>\n",
    "<br>\n",
    "Show the definition of the <em>dbc.databasesV</em> view.\n",
    "<details><summary>Hint</summary>Think about <em>SHOW VIEW</em> syntax.</details>\n",
    "<details><summary>Answer</summary><pre style=\"margin: 1em 0; padding: 1em; border-radius: 5px; background-color: #25292f; white-space: pre-wrap;\"><code style=\"background-color: #25292f; color: #ffffff\">SHOW VIEW dbc.databasesV</code></pre></details>"
   ]
  },
  {
   "cell_type": "code",
   "execution_count": null,
   "id": "4422b939",
   "metadata": {},
   "outputs": [],
   "source": [
    "%%tdquiz\n",
    "/* Write your query blow */\n",
    "\n",
    "\n",
    "\n",
    "\n"
   ]
  },
  {
   "cell_type": "markdown",
   "id": "eee57c7a",
   "metadata": {},
   "source": [
    "<h3>Query execution plan</h3><span class=\"tag\" style=\"font-size: smaller; background-color: #dddddd; color: #222222\">explain</span>\n",
    "<br>\n",
    "We have written the following query to show all national holidays in 2021.\n",
    "<pre class=\"sql-code\">\n",
    "SELECT\n",
    "  calendar_date, holiday_name\n",
    "FROM\n",
    "  japan.japan_holidays\n",
    "WHERE\n",
    "  calendar_date BETWEEN DATE'2021-01-01' AND DATE'2021-12-31'\n",
    "</pre>\n",
    "\n",
    "Please show the execution plan of this query.\n",
    "<details><summary>Hint</summary>Check <em>EXPLAIN</em> syntax.</details>\n",
    "<details><summary>Answer</summary><pre style=\"margin: 1em 0; padding: 1em; border-radius: 5px; background-color: #25292f; white-space: pre-wrap;\"><code style=\"background-color: #25292f; color: #ffffff\">EXPLAIN\n",
    "\n",
    "SELECT\n",
    "  calendar_date, holiday_name\n",
    "FROM\n",
    "  japan.japan_holidays\n",
    "WHERE\n",
    "  calendar_date BETWEEN DATE'2021-01-01' AND DATE'2021-12-31'</code></pre></details>"
   ]
  },
  {
   "cell_type": "code",
   "execution_count": null,
   "id": "6b1ea276",
   "metadata": {},
   "outputs": [],
   "source": [
    "%%tdquiz\n",
    "/* Write your query blow */\n",
    "\n",
    "\n",
    "\n",
    "\n"
   ]
  },
  {
   "cell_type": "markdown",
   "id": "97a08133",
   "metadata": {},
   "source": [
    "<h3>Disk space of the tables\n",
    "</h3><span class=\"tag\" style=\"font-size: smaller; background-color: #dddddd; color: #222222\">teradata-specific</span>\n",
    "<br>\n",
    "Calculate the disk space sizes of all tables in <em>japan</em> and <em>TeraShirt</em> databases.\n",
    "Show three columns: database name, table name, and disk space (in MB up to the second decimal point).\n",
    "Assume that 1MB = 1024*1024B.\n",
    "<details><summary>Hint</summary>Disk spaces are stored in <em>DBC.TableSizeV</em>. Note that the table data are stored in multiple clusters and the space information is per cluster basis.</details>\n",
    "<details><summary>Answer</summary><pre style=\"margin: 1em 0; padding: 1em; border-radius: 5px; background-color: #25292f; white-space: pre-wrap;\"><code style=\"background-color: #25292f; color: #ffffff\">SELECT\n",
    "  databaseName, tableName,\n",
    "  1.00*SUM(CurrentPerm) / 1024 / 1024 AS size_MB\n",
    "FROM\n",
    "  dbc.TableSizeV\n",
    "WHERE\n",
    "  databaseName IN ('japan' , 'TeraShirt')\n",
    "GROUP BY 1, 2</code></pre></details>"
   ]
  },
  {
   "cell_type": "code",
   "execution_count": null,
   "id": "a77409d4",
   "metadata": {},
   "outputs": [],
   "source": [
    "%%tdquiz\n",
    "/* Write your query blow */\n",
    "\n",
    "\n",
    "\n",
    "\n"
   ]
  },
  {
   "cell_type": "markdown",
   "id": "216a7bba",
   "metadata": {},
   "source": [
    "<h3>Skewness of table data\n",
    "</h3><span class=\"tag\" style=\"font-size: smaller; background-color: #dddddd; color: #222222\">teradata-specific</span> <span class=\"tag\" style=\"font-size: smaller; background-color: #dddddd; color: #222222\">skewness</span>\n",
    "<br>\n",
    "Table data are distributed across clusters in the teradata system.\n",
    "In general, the computation becomes efficient when data are distributed uniformly.\n",
    "The skewness is a measure that represents the degree of data concentration.\n",
    "\n",
    "<pre>\n",
    "Skewness = 1 - Average size across AMPs / Maximum size among AMPs\n",
    "</pre>\n",
    "\n",
    "If all AMPs have the equal size of data, then the average equals the maximum, and hence the skewness is zero.\n",
    "If data are concentrated to one of ten AMPs, then the average will become 1/10 of the maximum, so the skewness is 0.9.\n",
    "Note that skewness is often shown in percent scale, which is the above definition multiplied by 100.\n",
    "\n",
    "Calculate the skewness of <em>TeraShirt.store</em> and <em>TeraShirt.store_sales</em> in percent scale.\n",
    "Include database name, table name and skewness in the result set.\n",
    "\n",
    "[Optional] Think about why the skewness is larger for one of the tables.\n",
    "<details><summary>Hint</summary>Disk spaces are stored in <em>DBC.TableSizeV</em>.</details>\n",
    "<details><summary>Answer</summary><pre style=\"margin: 1em 0; padding: 1em; border-radius: 5px; background-color: #25292f; white-space: pre-wrap;\"><code style=\"background-color: #25292f; color: #ffffff\">SELECT\n",
    "  databaseName, tableName, \n",
    "  (1 - AVG(currentPerm) / MAX(currentPerm)) * 100 AS skewness\n",
    "FROM\n",
    "  dbc.TableSizeV\n",
    "WHERE\n",
    "  databaseName = 'terashirt' AND tableName IN ('store', 'store_sales')\n",
    "GROUP BY 1,2</code></pre></details>"
   ]
  },
  {
   "cell_type": "code",
   "execution_count": null,
   "id": "c7607888",
   "metadata": {},
   "outputs": [],
   "source": [
    "%%tdquiz\n",
    "/* Write your query blow */\n",
    "\n",
    "\n",
    "\n",
    "\n"
   ]
  },
  {
   "cell_type": "markdown",
   "id": "d9b7985e",
   "metadata": {},
   "source": [
    "<h3>Remaining space in the database\n",
    "</h3><span class=\"tag\" style=\"font-size: smaller; background-color: #dddddd; color: #222222\">teradata-specific</span> <span class=\"tag\" style=\"font-size: smaller; background-color: #dddddd; color: #222222\">size</span>\n",
    "<br>\n",
    "Calculate the total space, the used space, and the fraction of remaining space of <em>TeraShirt</em> and <em>japan</em> databases.\n",
    "Show the database name, total space in MB, used space in MB, and the fraction of remaining space (%) in the result set, all columns up to the first decimap space.\n",
    "Assume that 1MB = 1024*1024B.\n",
    "<details><summary>Hint</summary>Disk spaces of databases are stored in <em>DBC.DiskSpaceV</em>.</details>\n",
    "<details><summary>Answer</summary><pre style=\"margin: 1em 0; padding: 1em; border-radius: 5px; background-color: #25292f; white-space: pre-wrap;\"><code style=\"background-color: #25292f; color: #ffffff\">SELECT\n",
    "  databaseName,\n",
    "  SUM(1.0 * maxPerm)/1024/1024 AS total_space,\n",
    "  SUM(1.0 * currentPerm)/1024/1024 AS used_space,\n",
    "  (1 - SUM(1.000 * currentPerm)/SUM(1.000 * maxPerm)) * 100 AS remain_percent\n",
    "FROM\n",
    "  dbc.diskSpaceV\n",
    "WHERE\n",
    "  databaseName IN ('japan', 'TeraShirt')\n",
    "GROUP BY 1</code></pre></details>"
   ]
  },
  {
   "cell_type": "code",
   "execution_count": null,
   "id": "a1859ffa",
   "metadata": {},
   "outputs": [],
   "source": [
    "%%tdquiz\n",
    "/* Write your query blow */\n",
    "\n",
    "\n",
    "\n",
    "\n"
   ]
  }
 ],
 "metadata": {},
 "nbformat": 4,
 "nbformat_minor": 5
}
