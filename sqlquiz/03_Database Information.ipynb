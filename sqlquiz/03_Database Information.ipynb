{
 "cells": [
  {
   "cell_type": "markdown",
   "id": "3c210e08",
   "metadata": {},
   "source": [
    "# データベース情報"
   ]
  },
  {
   "cell_type": "code",
   "execution_count": null,
   "id": "47cdc2de",
   "metadata": {},
   "outputs": [],
   "source": [
    "# このセルはそのまま実行して、tdquiz コマンドをロードしてください。\n",
    "# tdquiz コマンドはクエリを実行してその結果を返します。\n",
    "%load_ext tdquiz\n",
    "\n",
    "# tdquiz コマンドをテスト\n",
    "%tdquiz SELECT USER, SESSION, CURRENT_TIMESTAMP"
   ]
  },
  {
   "cell_type": "markdown",
   "id": "3d2622f7",
   "metadata": {},
   "source": [
    "<h3>Teradata セッション番号</h3><span class=\"tag\" style=\"font-size: smaller; background-color: #dddddd; color: #222222\">teradata-specific</span>\n",
    "<br>\n",
    "Teradataデータベースへ接続すると、1つのセッション番号が割り振られます。そのセッション番号を表示してください。\n",
    "<br />\n",
    "セッション番号は、1つの整数値です。\n",
    "\n",
    "<details><summary>Answer</summary><pre style=\"margin: 1em 0; padding: 1em; border-radius: 5px; background-color: #25292f; white-space: pre-wrap;\"><code style=\"background-color: #25292f; color: #ffffff\">SELECT SESSION AS session_number</code></pre></details>"
   ]
  },
  {
   "cell_type": "code",
   "execution_count": null,
   "id": "b2cc0989",
   "metadata": {},
   "outputs": [],
   "source": [
    "%%tdquiz\n",
    "/* クエリを下記に記載 */\n",
    "\n",
    "\n",
    "\n",
    "\n"
   ]
  },
  {
   "cell_type": "markdown",
   "id": "a1767bf3",
   "metadata": {},
   "source": [
    "<h3>どのバージョンのTeradataか？</h3><span class=\"tag\" style=\"font-size: smaller; background-color: #dddddd; color: #222222\">teradata-specific</span>\n",
    "<br>\n",
    "現在使用しているTeradataデータベースのバージョン番号を出力してください。\n",
    "\n",
    "<details><summary>Answer</summary><pre style=\"margin: 1em 0; padding: 1em; border-radius: 5px; background-color: #25292f; white-space: pre-wrap;\"><code style=\"background-color: #25292f; color: #ffffff\">SELECT InfoData\n",
    "FROM dbc.dbcinfo\n",
    "WHERE InfoKey = 'VERSION'</code></pre></details>"
   ]
  },
  {
   "cell_type": "code",
   "execution_count": null,
   "id": "4a61048b",
   "metadata": {},
   "outputs": [],
   "source": [
    "%%tdquiz\n",
    "/* クエリを下記に記載 */\n",
    "\n",
    "\n",
    "\n",
    "\n"
   ]
  },
  {
   "cell_type": "markdown",
   "id": "fed6e25b",
   "metadata": {},
   "source": [
    "<h3>テーブルの定義\n",
    "</h3><span class=\"tag\" style=\"font-size: smaller; background-color: #dddddd; color: #222222\">teradata-specific</span> <span class=\"tag\" style=\"font-size: smaller; background-color: #dddddd; color: #222222\">ddl</span>\n",
    "<br>\n",
    "<em>japan.cities</em> のテーブル定義 (DDL) を表示してください。\n",
    "<details><summary>Hint</summary><em>SHOW TABLE</em> 文を考えます。</details>\n",
    "<details><summary>Answer</summary><pre style=\"margin: 1em 0; padding: 1em; border-radius: 5px; background-color: #25292f; white-space: pre-wrap;\"><code style=\"background-color: #25292f; color: #ffffff\">SHOW TABLE japan.cities</code></pre></details>"
   ]
  },
  {
   "cell_type": "code",
   "execution_count": null,
   "id": "87005fd0",
   "metadata": {},
   "outputs": [],
   "source": [
    "%%tdquiz\n",
    "/* クエリを下記に記載 */\n",
    "\n",
    "\n",
    "\n",
    "\n"
   ]
  },
  {
   "cell_type": "markdown",
   "id": "cf4e55f7",
   "metadata": {},
   "source": [
    "<h3>ビューの定義\n",
    "</h3><span class=\"tag\" style=\"font-size: smaller; background-color: #dddddd; color: #222222\">teradata-specific</span> <span class=\"tag\" style=\"font-size: smaller; background-color: #dddddd; color: #222222\">ddl</span>\n",
    "<br>\n",
    "<em>dbc.databasesV</em> のビュー定義 (DDL) を表示してください。\n",
    "<details><summary>Hint</summary><em>SHOW VIEW</em> 文を考えます。</details>\n",
    "<details><summary>Answer</summary><pre style=\"margin: 1em 0; padding: 1em; border-radius: 5px; background-color: #25292f; white-space: pre-wrap;\"><code style=\"background-color: #25292f; color: #ffffff\">SHOW VIEW dbc.databasesV</code></pre></details>"
   ]
  },
  {
   "cell_type": "code",
   "execution_count": null,
   "id": "4f86ede5",
   "metadata": {},
   "outputs": [],
   "source": [
    "%%tdquiz\n",
    "/* クエリを下記に記載 */\n",
    "\n",
    "\n",
    "\n",
    "\n"
   ]
  },
  {
   "cell_type": "markdown",
   "id": "915ae260",
   "metadata": {},
   "source": [
    "<h3>クエリ実行計画</h3><span class=\"tag\" style=\"font-size: smaller; background-color: #dddddd; color: #222222\">explain</span>\n",
    "<br>\n",
    "2021年の国民の祝日を出力するために、次のようなクエリを作成しました。\n",
    "<pre class=\"sql-code\">\n",
    "SELECT\n",
    "  calendar_date, holiday_name\n",
    "FROM\n",
    "  japan.japan_holidays\n",
    "WHERE\n",
    "  calendar_date BETWEEN DATE'2021-01-01' AND DATE'2021-12-31'\n",
    "</pre>\n",
    "\n",
    "このクエリの実行クエリを出力してください。\n",
    "<details><summary>Hint</summary><em>EXPLAIN</em>文 を調べてみてください。</details>\n",
    "<details><summary>Answer</summary><pre style=\"margin: 1em 0; padding: 1em; border-radius: 5px; background-color: #25292f; white-space: pre-wrap;\"><code style=\"background-color: #25292f; color: #ffffff\">EXPLAIN\n",
    "\n",
    "SELECT\n",
    "  calendar_date, holiday_name\n",
    "FROM\n",
    "  japan.japan_holidays\n",
    "WHERE\n",
    "  calendar_date BETWEEN DATE'2021-01-01' AND DATE'2021-12-31'</code></pre></details>"
   ]
  },
  {
   "cell_type": "code",
   "execution_count": null,
   "id": "7107c658",
   "metadata": {},
   "outputs": [],
   "source": [
    "%%tdquiz\n",
    "/* クエリを下記に記載 */\n",
    "\n",
    "\n",
    "\n",
    "\n"
   ]
  },
  {
   "cell_type": "markdown",
   "id": "4299cd92",
   "metadata": {},
   "source": [
    "<h3>テーブルのディスク容量\n",
    "</h3><span class=\"tag\" style=\"font-size: smaller; background-color: #dddddd; color: #222222\">teradata-specific</span>\n",
    "<br>\n",
    "<em>japan</em>, <em>TeraShirt</em> データベースに含まれる全てのテーブルについて、そのディスク容量を取得してください。\n",
    "出力は、データベース名、テーブル名、ディスク容量の3列として、ディスク容量は MB単位で小数点第2位まで示してください。\n",
    "なお、1MB = 1024*1024B とします。\n",
    "<details><summary>Hint</summary>テーブル容量は、<em>DBC.TableSizeV</em> に保持されています。ただし、テーブルデータは複数のAMPに分散して保持されていて、情報がAMP単位となっていることに注意してください。</details>\n",
    "<details><summary>Answer</summary><pre style=\"margin: 1em 0; padding: 1em; border-radius: 5px; background-color: #25292f; white-space: pre-wrap;\"><code style=\"background-color: #25292f; color: #ffffff\">SELECT\n",
    "  databaseName, tableName,\n",
    "  1.00*SUM(CurrentPerm) / 1024 / 1024 AS size_MB\n",
    "FROM\n",
    "  dbc.TableSizeV\n",
    "WHERE\n",
    "  databaseName IN ('japan' , 'TeraShirt')\n",
    "GROUP BY 1, 2</code></pre></details>"
   ]
  },
  {
   "cell_type": "code",
   "execution_count": null,
   "id": "04ad8fae",
   "metadata": {},
   "outputs": [],
   "source": [
    "%%tdquiz\n",
    "/* クエリを下記に記載 */\n",
    "\n",
    "\n",
    "\n",
    "\n"
   ]
  },
  {
   "cell_type": "markdown",
   "id": "99ac95c9",
   "metadata": {},
   "source": [
    "<h3>テーブルデータの偏り (Skewness)\n",
    "</h3><span class=\"tag\" style=\"font-size: smaller; background-color: #dddddd; color: #222222\">teradata-specific</span> <span class=\"tag\" style=\"font-size: smaller; background-color: #dddddd; color: #222222\">skewness</span>\n",
    "<br>\n",
    "テーブルデータは1つ以上のAMPに分散して保持されています。一般に、データが偏りなく均等に分散しているほど、計算処理の効率が良くなります。\n",
    "Skewness は、データの偏りを表す指標で、次のように定義されます：\n",
    "\n",
    "<pre>\n",
    "Skewness = 1 - AMP容量の平均値 / AMP容量の最大値\n",
    "</pre>\n",
    "\n",
    "仮にすべてのAMPに同じ容量のデータが保持されていれば、平均値と最大値は一致するため、Skewness はゼロになります。\n",
    "また、データが10個のAMPのうちの1つに集中している場合、平均値は最大値の1/10 になるため、Skewness は 0.9 となります。\n",
    "なお、Skewnessは上の定義に100をかけてパーセント表記されることが多いです。\n",
    "\n",
    "<em>TeraShirt.store</em> と <em>TeraShirt.store_sales</em> のSkewnessをパーセント表記で計算してください。\n",
    "結果にはデータベース名、テーブル名、Skewnessを表示してください。\n",
    "\n",
    "【Optional】また、Skewnessの値が一方のテーブルで高めに出るのか、考えてみてください。\n",
    "<details><summary>Hint</summary>テーブル容量は、<em>DBC.TableSizeV</em> に保持されています。</details>\n",
    "<details><summary>Answer</summary><pre style=\"margin: 1em 0; padding: 1em; border-radius: 5px; background-color: #25292f; white-space: pre-wrap;\"><code style=\"background-color: #25292f; color: #ffffff\">SELECT\n",
    "  databaseName, tableName, \n",
    "  (1 - AVG(currentPerm) / MAX(currentPerm)) * 100 AS skewness\n",
    "FROM\n",
    "  dbc.TableSizeV\n",
    "WHERE\n",
    "  databaseName = 'terashirt' AND tableName IN ('store', 'store_sales')\n",
    "GROUP BY 1,2</code></pre></details>"
   ]
  },
  {
   "cell_type": "code",
   "execution_count": null,
   "id": "844096a3",
   "metadata": {},
   "outputs": [],
   "source": [
    "%%tdquiz\n",
    "/* クエリを下記に記載 */\n",
    "\n",
    "\n",
    "\n",
    "\n"
   ]
  },
  {
   "cell_type": "markdown",
   "id": "7891c836",
   "metadata": {},
   "source": [
    "<h3>データベースの残り容量\n",
    "</h3><span class=\"tag\" style=\"font-size: smaller; background-color: #dddddd; color: #222222\">teradata-specific</span> <span class=\"tag\" style=\"font-size: smaller; background-color: #dddddd; color: #222222\">size</span>\n",
    "<br>\n",
    "<em>TeraShirt</em>, <em>japan</em> データベースについて、そのディスク容量の総量、すでに使われている容量、残ったスペースの割合 (%) を計算してください。\n",
    "結果は データベース名、ディスク総容量 (MB), 使用済みディスク容量 (MB), 残ったスペースの割合 (%) の順に、それぞれ小数点以下第1位まで表示してください。\n",
    "ここでは、1MB = 1024*1024B とします。\n",
    "<details><summary>Hint</summary>データベースの容量は、<em>DBC.DiskSpaceV</em> に保持されています。</details>\n",
    "<details><summary>Answer</summary><pre style=\"margin: 1em 0; padding: 1em; border-radius: 5px; background-color: #25292f; white-space: pre-wrap;\"><code style=\"background-color: #25292f; color: #ffffff\">SELECT\n",
    "  databaseName,\n",
    "  SUM(1.0 * maxPerm)/1024/1024 AS total_space,\n",
    "  SUM(1.0 * currentPerm)/1024/1024 AS used_space,\n",
    "  (1 - SUM(1.000 * currentPerm)/SUM(1.000 * maxPerm)) * 100 AS remain_percent\n",
    "FROM\n",
    "  dbc.diskSpaceV\n",
    "WHERE\n",
    "  databaseName IN ('japan', 'TeraShirt')\n",
    "GROUP BY 1</code></pre></details>"
   ]
  },
  {
   "cell_type": "code",
   "execution_count": null,
   "id": "31b56989",
   "metadata": {},
   "outputs": [],
   "source": [
    "%%tdquiz\n",
    "/* クエリを下記に記載 */\n",
    "\n",
    "\n",
    "\n",
    "\n"
   ]
  }
 ],
 "metadata": {},
 "nbformat": 4,
 "nbformat_minor": 5
}
