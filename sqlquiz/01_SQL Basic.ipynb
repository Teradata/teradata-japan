{
 "cells": [
  {
   "cell_type": "markdown",
   "id": "15df5a90",
   "metadata": {},
   "source": [
    "# SQL基礎"
   ]
  },
  {
   "cell_type": "code",
   "execution_count": null,
   "id": "7dd83a97",
   "metadata": {},
   "outputs": [],
   "source": [
    "# このセルはそのまま実行して、tdquiz コマンドをロードしてください。\n",
    "# tdquiz コマンドはクエリを実行してその結果を返します。\n",
    "%load_ext tdquiz\n",
    "\n",
    "# tdquiz コマンドをテスト\n",
    "%tdquiz SELECT USER, SESSION, CURRENT_TIMESTAMP"
   ]
  },
  {
   "cell_type": "markdown",
   "id": "b0c4407b",
   "metadata": {},
   "source": [
    "<h3>全ての店舗</h3>\n",
    "<br>\n",
    "<em>TeraShirt.store</em> テーブルには、TeraShirt社の店舗の情報が格納されています。\n",
    "このテーブルに含まれるTeraShirt社の店舗情報を全て表示してください（出力は全ての列）。\n",
    "\n",
    "<details><summary>Answer</summary><pre style=\"margin: 1em 0; padding: 1em; border-radius: 5px; background-color: #25292f; white-space: pre-wrap;\"><code style=\"background-color: #25292f; color: #ffffff\">SELECT * FROM TeraShirt.store</code></pre></details>"
   ]
  },
  {
   "cell_type": "code",
   "execution_count": null,
   "id": "6c553d02",
   "metadata": {},
   "outputs": [],
   "source": [
    "%%tdquiz\n",
    "/* クエリを下記に記載 */\n",
    "\n",
    "\n",
    "\n",
    "\n"
   ]
  },
  {
   "cell_type": "markdown",
   "id": "71e1c650",
   "metadata": {},
   "source": [
    "<h3>デザイン担当の従業員</h3><span class=\"tag\" style=\"font-size: smaller; background-color: #dddddd; color: #222222\">comparison-operator</span>\n",
    "<br>\n",
    "<em>TeraShirt.employee</em> テーブルには、TeraShirt社の従業員の情報が格納されています。\n",
    "このうち、デザインを担当している従業員のID、姓、名を表示してください。\n",
    "<details><summary>Hint</summary><em>role</em> 列を確認してください。</details>\n",
    "<details><summary>Answer</summary><pre style=\"margin: 1em 0; padding: 1em; border-radius: 5px; background-color: #25292f; white-space: pre-wrap;\"><code style=\"background-color: #25292f; color: #ffffff\">SELECT\n",
    "  employee_id,\n",
    "  last_name,\n",
    "  first_name\n",
    "FROM\n",
    "  TeraShirt.employee\n",
    "WHERE\n",
    "  \"role\" = 'デザイナー'</code></pre></details>"
   ]
  },
  {
   "cell_type": "code",
   "execution_count": null,
   "id": "5f3b2be5",
   "metadata": {},
   "outputs": [],
   "source": [
    "%%tdquiz\n",
    "/* クエリを下記に記載 */\n",
    "\n",
    "\n",
    "\n",
    "\n"
   ]
  },
  {
   "cell_type": "markdown",
   "id": "53f3ac91",
   "metadata": {},
   "source": [
    "<h3>クーパーさんの部下\n",
    "</h3><span class=\"tag\" style=\"font-size: smaller; background-color: #dddddd; color: #222222\">filter</span>\n",
    "<br>\n",
    "TeraShirt社の社員のうち、ブレンダ・クーパーさんの部下を抽出し、その名字と名前を出力してください。\n",
    "\n",
    "<details><summary>Answer</summary><pre style=\"margin: 1em 0; padding: 1em; border-radius: 5px; background-color: #25292f; white-space: pre-wrap;\"><code style=\"background-color: #25292f; color: #ffffff\">SELECT\n",
    "  last_name, first_name\n",
    "FROM\n",
    "  TeraShirt.employee\n",
    "WHERE\n",
    "  report_to IN (\n",
    "    SELECT employee_id FROM TeraShirt.employee WHERE first_name = 'ブレンダ' AND last_name = 'クーパー')</code></pre></details>"
   ]
  },
  {
   "cell_type": "code",
   "execution_count": null,
   "id": "bae9279c",
   "metadata": {},
   "outputs": [],
   "source": [
    "%%tdquiz\n",
    "/* クエリを下記に記載 */\n",
    "\n",
    "\n",
    "\n",
    "\n"
   ]
  },
  {
   "cell_type": "markdown",
   "id": "14f8e227",
   "metadata": {},
   "source": [
    "<h3>2022/01/01以降にオープンした店舗</h3><span class=\"tag\" style=\"font-size: smaller; background-color: #dddddd; color: #222222\">comparison-operator</span> <span class=\"tag\" style=\"font-size: smaller; background-color: #dddddd; color: #222222\">date</span>\n",
    "<br>\n",
    "<em>TeraShirt.store</em> テーブルには、TeraShirt社の店舗の情報が格納されています。\n",
    "2022/01/01以降にオープンした店舗について、その名前とオープン日を表示してください。\n",
    "\n",
    "<details><summary>Answer</summary><pre style=\"margin: 1em 0; padding: 1em; border-radius: 5px; background-color: #25292f; white-space: pre-wrap;\"><code style=\"background-color: #25292f; color: #ffffff\">SELECT\n",
    "  name, open_date\n",
    "FROM\n",
    "  TeraShirt.store\n",
    "WHERE\n",
    "  open_date >= DATE'2022-01-01'</code></pre></details>"
   ]
  },
  {
   "cell_type": "code",
   "execution_count": null,
   "id": "4671dcf5",
   "metadata": {},
   "outputs": [],
   "source": [
    "%%tdquiz\n",
    "/* クエリを下記に記載 */\n",
    "\n",
    "\n",
    "\n",
    "\n"
   ]
  },
  {
   "cell_type": "markdown",
   "id": "8c803353",
   "metadata": {},
   "source": [
    "<h3>白または黒のTシャツ</h3><span class=\"tag\" style=\"font-size: smaller; background-color: #dddddd; color: #222222\">logical-operator</span>\n",
    "<br>\n",
    "<em>TeraShirt.product</em> テーブルには、TeraShirt社の商品の情報が格納されています。\n",
    "白または黒のTシャツの商品IDと商品名を表示してください。\n",
    "<details><summary>Hint</summary>type列で商品の種類が分かります。</details>\n",
    "<details><summary>Answer</summary><pre style=\"margin: 1em 0; padding: 1em; border-radius: 5px; background-color: #25292f; white-space: pre-wrap;\"><code style=\"background-color: #25292f; color: #ffffff\">SELECT\n",
    "  product_id, name\n",
    "FROM\n",
    "  TeraShirt.product a\n",
    "WHERE\n",
    "  color IN ('black', 'white')\n",
    "  AND \"type\" = 'tshirt'</code></pre></details>"
   ]
  },
  {
   "cell_type": "code",
   "execution_count": null,
   "id": "57a1b975",
   "metadata": {},
   "outputs": [],
   "source": [
    "%%tdquiz\n",
    "/* クエリを下記に記載 */\n",
    "\n",
    "\n",
    "\n",
    "\n"
   ]
  },
  {
   "cell_type": "markdown",
   "id": "8b06ccdf",
   "metadata": {},
   "source": [
    "<h3>誕生日が欠損している顧客</h3><span class=\"tag\" style=\"font-size: smaller; background-color: #dddddd; color: #222222\">logical-operator</span> <span class=\"tag\" style=\"font-size: smaller; background-color: #dddddd; color: #222222\">missing-value</span>\n",
    "<br>\n",
    "<em>TeraShirt.customer</em> テーブルには、TeraShirt社の顧客の情報が格納されています。\n",
    "誕生日が欠損している顧客のID、姓、名を表示してください。\n",
    "\n",
    "<details><summary>Answer</summary><pre style=\"margin: 1em 0; padding: 1em; border-radius: 5px; background-color: #25292f; white-space: pre-wrap;\"><code style=\"background-color: #25292f; color: #ffffff\">SELECT\n",
    "  customer_id,\n",
    "  last_name,\n",
    "  first_name\n",
    "FROM\n",
    "  TeraShirt.customer\n",
    "WHERE\n",
    "  birthday IS NULL</code></pre></details>"
   ]
  },
  {
   "cell_type": "code",
   "execution_count": null,
   "id": "062f76ad",
   "metadata": {},
   "outputs": [],
   "source": [
    "%%tdquiz\n",
    "/* クエリを下記に記載 */\n",
    "\n",
    "\n",
    "\n",
    "\n"
   ]
  },
  {
   "cell_type": "markdown",
   "id": "0984c77c",
   "metadata": {},
   "source": [
    "<h3>従業員の給与</h3><span class=\"tag\" style=\"font-size: smaller; background-color: #dddddd; color: #222222\">sort</span>\n",
    "<br>\n",
    "<em>TeraShirt.employee</em> テーブルには、TeraShirt社の従業員の情報が格納されています。\n",
    "従業員のID、姓、名および給与を、給与の高い順に表示してください。\n",
    "\n",
    "<details><summary>Answer</summary><pre style=\"margin: 1em 0; padding: 1em; border-radius: 5px; background-color: #25292f; white-space: pre-wrap;\"><code style=\"background-color: #25292f; color: #ffffff\">SELECT\n",
    "  employee_id,\n",
    "  last_name,\n",
    "  first_name,\n",
    "  salary,\n",
    "  RANK() OVER (ORDER BY salary DESC) AS \"rank\"\n",
    "FROM\n",
    "  TeraShirt.employee</code></pre></details>"
   ]
  },
  {
   "cell_type": "code",
   "execution_count": null,
   "id": "c96c628f",
   "metadata": {},
   "outputs": [],
   "source": [
    "%%tdquiz\n",
    "/* クエリを下記に記載 */\n",
    "\n",
    "\n",
    "\n",
    "\n"
   ]
  },
  {
   "cell_type": "markdown",
   "id": "bde637e4",
   "metadata": {},
   "source": [
    "<h3>従業員の年齢</h3><span class=\"tag\" style=\"font-size: smaller; background-color: #dddddd; color: #222222\">arithmetic-operator</span> <span class=\"tag\" style=\"font-size: smaller; background-color: #dddddd; color: #222222\">date</span> <span class=\"tag\" style=\"font-size: smaller; background-color: #dddddd; color: #222222\">math</span>\n",
    "<br>\n",
    "<em>TeraShirt.employee</em> テーブルには、TeraShirt社の従業員の情報が格納されています。\n",
    "従業員の誕生日から、現在の年齢を計算し、従業員のID、姓、名及び年齢を表示してください。\n",
    "ただし、簡単化のため、ここでは<em>365日で1つ歳をとる</em>と仮定してください。\n",
    "<details><summary>Hint</summary>年齢は誕生日と現在の日付の差分で求まります。</details>\n",
    "<details><summary>Answer</summary><pre style=\"margin: 1em 0; padding: 1em; border-radius: 5px; background-color: #25292f; white-space: pre-wrap;\"><code style=\"background-color: #25292f; color: #ffffff\">SELECT\n",
    "  employee_id\n",
    "  ,last_name\n",
    "  ,first_name\n",
    "  ,(CURRENT_DATE - birthday) / 365 AS age\n",
    "FROM\n",
    "  TeraShirt.employee</code></pre></details>"
   ]
  },
  {
   "cell_type": "code",
   "execution_count": null,
   "id": "5e6f5e1e",
   "metadata": {},
   "outputs": [],
   "source": [
    "%%tdquiz\n",
    "/* クエリを下記に記載 */\n",
    "\n",
    "\n",
    "\n",
    "\n"
   ]
  },
  {
   "cell_type": "markdown",
   "id": "96e19d6e",
   "metadata": {},
   "source": [
    "<h3>売上の無い商品</h3><span class=\"tag\" style=\"font-size: smaller; background-color: #dddddd; color: #222222\">logical-operator</span>\n",
    "<br>\n",
    "<em>TeraShirt.product</em> テーブルには、TeraShirt社の商品の情報が、\n",
    "<em>TeraShirt.store_sales</em> テーブルには、売上の情報が格納されています。<br />\n",
    "これらのテーブルを用いて、売上記録の無い商品が存在するか調べてください。\n",
    "存在する場合は文字列の'YES'を出力し、存在しない場合は何も出力しないこと。\n",
    "<details><summary>Hint</summary>売上が無いということは、その商品が <em>TeraShirt.store_sales</em> テーブルに表れないということです。</details>\n",
    "<details><summary>Answer</summary><pre style=\"margin: 1em 0; padding: 1em; border-radius: 5px; background-color: #25292f; white-space: pre-wrap;\"><code style=\"background-color: #25292f; color: #ffffff\">SELECT DISTINCT\n",
    "  'YES'\n",
    "FROM\n",
    "  TeraShirt.product\n",
    "WHERE\n",
    "  product_id NOT IN ( SELECT product_id FROM TeraShirt.store_sales)</code></pre></details>"
   ]
  },
  {
   "cell_type": "code",
   "execution_count": null,
   "id": "5cf6460e",
   "metadata": {},
   "outputs": [],
   "source": [
    "%%tdquiz\n",
    "/* クエリを下記に記載 */\n",
    "\n",
    "\n",
    "\n",
    "\n"
   ]
  },
  {
   "cell_type": "markdown",
   "id": "566779bd",
   "metadata": {},
   "source": [
    "<h3>6月に登録した顧客</h3><span class=\"tag\" style=\"font-size: smaller; background-color: #dddddd; color: #222222\">date</span>\n",
    "<br>\n",
    "<em>TeraShirt.customer</em> テーブルには、TeraShirt社の顧客の情報が格納されています。\n",
    "このうち、6月に登録した顧客を表示してください。\n",
    "出力内容は、顧客のID、姓、名及び登録日としてください。\n",
    "\n",
    "<details><summary>Answer</summary><pre style=\"margin: 1em 0; padding: 1em; border-radius: 5px; background-color: #25292f; white-space: pre-wrap;\"><code style=\"background-color: #25292f; color: #ffffff\">SELECT\n",
    "  customer_id,\n",
    "  last_name,\n",
    "  first_name,\n",
    "  register_date\n",
    "FROM\n",
    "  TeraShirt.customer\n",
    "WHERE\n",
    "  register_date BETWEEN DATE'2021-06-01' AND DATE'2021-06-30'</code></pre></details>"
   ]
  },
  {
   "cell_type": "code",
   "execution_count": null,
   "id": "eed91d05",
   "metadata": {},
   "outputs": [],
   "source": [
    "%%tdquiz\n",
    "/* クエリを下記に記載 */\n",
    "\n",
    "\n",
    "\n",
    "\n"
   ]
  },
  {
   "cell_type": "markdown",
   "id": "39b6ab97",
   "metadata": {},
   "source": [
    "<h3>店舗の都道府県名</h3><span class=\"tag\" style=\"font-size: smaller; background-color: #dddddd; color: #222222\">string</span>\n",
    "<br>\n",
    "<em>TeraShirt.store</em> テーブルには、TeraShirt社の店舗の情報が格納されています。\n",
    "店舗の都道府県名について、行政区画を表す「都」「道」「府」「県」を除いて表示してください。\n",
    "出力は店舗の名前、及び行政区画を除いた都道府県名とすること。\n",
    "\n",
    "<details><summary>Answer</summary><pre style=\"margin: 1em 0; padding: 1em; border-radius: 5px; background-color: #25292f; white-space: pre-wrap;\"><code style=\"background-color: #25292f; color: #ffffff\">SELECT\n",
    "  name, SUBSTRING(prefecture FROM 1 FOR LENGTH(prefecture)-1) AS prefecture\n",
    "FROM\n",
    "  TeraShirt.store</code></pre></details>"
   ]
  },
  {
   "cell_type": "code",
   "execution_count": null,
   "id": "7d5ab2bb",
   "metadata": {},
   "outputs": [],
   "source": [
    "%%tdquiz\n",
    "/* クエリを下記に記載 */\n",
    "\n",
    "\n",
    "\n",
    "\n"
   ]
  },
  {
   "cell_type": "markdown",
   "id": "6995d1f0",
   "metadata": {},
   "source": [
    "<h3>2021年12月に売り上げた商品</h3><span class=\"tag\" style=\"font-size: smaller; background-color: #dddddd; color: #222222\">date</span> <span class=\"tag\" style=\"font-size: smaller; background-color: #dddddd; color: #222222\">join</span>\n",
    "<br>\n",
    "<em>TeraShirt.store_sales</em> テーブルには、TeraShirt社の売上の情報が格納されています。\n",
    "また <em>TeraShirt.product</em> テーブルには、TeraShirt社の商品の情報が格納されています。<br />\n",
    "2021年12月に売り上げた商品について、売り上げた日時、顧客のID、商品のID及び商品名を表示してください。\n",
    "<details><summary>Hint</summary>両方のテーブルに商品のIDが含まれています。</details>\n",
    "<details><summary>Answer</summary><pre style=\"margin: 1em 0; padding: 1em; border-radius: 5px; background-color: #25292f; white-space: pre-wrap;\"><code style=\"background-color: #25292f; color: #ffffff\">SELECT\n",
    "  s.purchase_timestamp, s.customer_id, s.product_id, p.name\n",
    "FROM\n",
    "  TeraShirt.store_sales AS s\n",
    "  INNER JOIN TeraShirt.product AS p\n",
    "    ON s.product_id = p.product_id\n",
    "WHERE\n",
    "  purchase_date BETWEEN DATE'2021-12-01' AND DATE'2021-12-31'</code></pre></details>"
   ]
  },
  {
   "cell_type": "code",
   "execution_count": null,
   "id": "d28b98ac",
   "metadata": {},
   "outputs": [],
   "source": [
    "%%tdquiz\n",
    "/* クエリを下記に記載 */\n",
    "\n",
    "\n",
    "\n",
    "\n"
   ]
  },
  {
   "cell_type": "markdown",
   "id": "5df6fa4c",
   "metadata": {},
   "source": [
    "<h3>1989/08/10生まれの人</h3><span class=\"tag\" style=\"font-size: smaller; background-color: #dddddd; color: #222222\">date</span> <span class=\"tag\" style=\"font-size: smaller; background-color: #dddddd; color: #222222\">set-operator</span>\n",
    "<br>\n",
    "<em>TeraShirt.customer</em> テーブルには、TeraShirt社の顧客情報が、\n",
    "また <em>TeraShirt.employee</em> テーブルには、TeraShirt社の従業員情報が格納されています。<br />\n",
    "全ての顧客と従業員のうち、1989/08/10生まれの人の姓と名を表示してください。\n",
    "\n",
    "<details><summary>Answer</summary><pre style=\"margin: 1em 0; padding: 1em; border-radius: 5px; background-color: #25292f; white-space: pre-wrap;\"><code style=\"background-color: #25292f; color: #ffffff\">SELECT\n",
    "  last_name, first_name\n",
    "FROM\n",
    "  TeraShirt.employee\n",
    "WHERE\n",
    "  birthday = DATE'1989-08-10'</code></pre></details>"
   ]
  },
  {
   "cell_type": "code",
   "execution_count": null,
   "id": "68498115",
   "metadata": {},
   "outputs": [],
   "source": [
    "%%tdquiz\n",
    "/* クエリを下記に記載 */\n",
    "\n",
    "\n",
    "\n",
    "\n"
   ]
  },
  {
   "cell_type": "markdown",
   "id": "d15656a5",
   "metadata": {},
   "source": [
    "<h3>上司ではない従業員</h3><span class=\"tag\" style=\"font-size: smaller; background-color: #dddddd; color: #222222\">set-operator</span>\n",
    "<br>\n",
    "<em>TeraShirt.employee</em> テーブルには、TeraShirt社の従業員の情報が格納されています。\n",
    "このうち、上司ではない従業員のID、姓、名を表示してください。\n",
    "なお、クエリは集合演算子を用いて実行してください。\n",
    "\n",
    "<details><summary>Answer</summary><pre style=\"margin: 1em 0; padding: 1em; border-radius: 5px; background-color: #25292f; white-space: pre-wrap;\"><code style=\"background-color: #25292f; color: #ffffff\">SELECT\n",
    "  employee_id, last_name, first_name\n",
    "FROM\n",
    "  TeraShirt.employee\n",
    "WHERE\n",
    "  employee_id NOT IN ( SELECT report_to FROM TeraShirt.employee )</code></pre></details>"
   ]
  },
  {
   "cell_type": "code",
   "execution_count": null,
   "id": "fa8eb647",
   "metadata": {},
   "outputs": [],
   "source": [
    "%%tdquiz\n",
    "/* クエリを下記に記載 */\n",
    "\n",
    "\n",
    "\n",
    "\n"
   ]
  },
  {
   "cell_type": "markdown",
   "id": "6f8a27b6",
   "metadata": {},
   "source": [
    "<h3>30個以上売り上げた商品</h3><span class=\"tag\" style=\"font-size: smaller; background-color: #dddddd; color: #222222\">aggregation</span> <span class=\"tag\" style=\"font-size: smaller; background-color: #dddddd; color: #222222\">conditional-expression</span>\n",
    "<br>\n",
    "<em>TeraShirt.store_sales</em> テーブルには、TeraShirt社の売上の情報が格納されています。\n",
    "商品の売上個数を集計し、合計30個以上売り上げた商品のIDと個数を表示してください。\n",
    "\n",
    "<details><summary>Answer</summary><pre style=\"margin: 1em 0; padding: 1em; border-radius: 5px; background-color: #25292f; white-space: pre-wrap;\"><code style=\"background-color: #25292f; color: #ffffff\">SELECT\n",
    "  product_id, SUM(quantity) AS quantity\n",
    "FROM\n",
    "  terashirt.store_sales\n",
    "GROUP BY 1\n",
    "HAVING SUM(quantity) >= 30</code></pre></details>"
   ]
  },
  {
   "cell_type": "code",
   "execution_count": null,
   "id": "934ce497",
   "metadata": {},
   "outputs": [],
   "source": [
    "%%tdquiz\n",
    "/* クエリを下記に記載 */\n",
    "\n",
    "\n",
    "\n",
    "\n"
   ]
  },
  {
   "cell_type": "markdown",
   "id": "e75d3b89",
   "metadata": {},
   "source": [
    "<h3>商品単価の順位</h3><span class=\"tag\" style=\"font-size: smaller; background-color: #dddddd; color: #222222\">sort</span>\n",
    "<br>\n",
    "<em>TeraShirt.product</em> テーブルには、TeraShirt社の商品の情報が格納されています。\n",
    "商品単価を高い順に順位付けし、商品名、単価及び順位を表示してください。\n",
    "\n",
    "<details><summary>Answer</summary><pre style=\"margin: 1em 0; padding: 1em; border-radius: 5px; background-color: #25292f; white-space: pre-wrap;\"><code style=\"background-color: #25292f; color: #ffffff\">SELECT\n",
    "  name, standard_unit_price,\n",
    "  RANK() OVER (ORDER BY standard_unit_price DESC)\n",
    "FROM\n",
    "  TeraShirt.product</code></pre></details>"
   ]
  },
  {
   "cell_type": "code",
   "execution_count": null,
   "id": "46206b4b",
   "metadata": {},
   "outputs": [],
   "source": [
    "%%tdquiz\n",
    "/* クエリを下記に記載 */\n",
    "\n",
    "\n",
    "\n",
    "\n"
   ]
  },
  {
   "cell_type": "markdown",
   "id": "c9ebaafa",
   "metadata": {},
   "source": [
    "<h3>役職ごとの給与の順位</h3><span class=\"tag\" style=\"font-size: smaller; background-color: #dddddd; color: #222222\">sort</span>\n",
    "<br>\n",
    "<em>TeraShirt.employee</em> テーブルには、TeraShirt社の従業員の情報が格納されています。\n",
    "従業員の給与について、役職ごとに高い順で順位付けし、役職、姓、名、給与及び順位を表示してください。\n",
    "\n",
    "<details><summary>Answer</summary><pre style=\"margin: 1em 0; padding: 1em; border-radius: 5px; background-color: #25292f; white-space: pre-wrap;\"><code style=\"background-color: #25292f; color: #ffffff\">SELECT\n",
    "  \"role\",\n",
    "  last_name,\n",
    "  first_name,\n",
    "  salary,\n",
    "  RANK() OVER (PARTITION BY \"role\" ORDER BY salary DESC) AS \"rank\"\n",
    "FROM\n",
    "  TeraShirt.employee</code></pre></details>"
   ]
  },
  {
   "cell_type": "code",
   "execution_count": null,
   "id": "80d420a9",
   "metadata": {},
   "outputs": [],
   "source": [
    "%%tdquiz\n",
    "/* クエリを下記に記載 */\n",
    "\n",
    "\n",
    "\n",
    "\n"
   ]
  },
  {
   "cell_type": "markdown",
   "id": "4b003cdc",
   "metadata": {},
   "source": [
    "<h3>従業員のフルネーム</h3><span class=\"tag\" style=\"font-size: smaller; background-color: #dddddd; color: #222222\">string</span>\n",
    "<br>\n",
    "<em>TeraShirt.employee</em> テーブルには、TeraShirt社の従業員の情報が格納されています。\n",
    "従業員の姓と名を連結し、フルネームを表示してください。\n",
    "ただし、姓と名の間に半角スペースを1個入れてください。\n",
    "\n",
    "<details><summary>Answer</summary><pre style=\"margin: 1em 0; padding: 1em; border-radius: 5px; background-color: #25292f; white-space: pre-wrap;\"><code style=\"background-color: #25292f; color: #ffffff\">SELECT\n",
    "  last_name || ' ' || first_name AS full_name\n",
    "FROM\n",
    "  TeraShirt.employee</code></pre></details>"
   ]
  },
  {
   "cell_type": "code",
   "execution_count": null,
   "id": "45dc135b",
   "metadata": {},
   "outputs": [],
   "source": [
    "%%tdquiz\n",
    "/* クエリを下記に記載 */\n",
    "\n",
    "\n",
    "\n",
    "\n"
   ]
  },
  {
   "cell_type": "markdown",
   "id": "e5a315a7",
   "metadata": {},
   "source": [
    "<h3>商品の価格帯</h3><span class=\"tag\" style=\"font-size: smaller; background-color: #dddddd; color: #222222\">comparison-operator</span> <span class=\"tag\" style=\"font-size: smaller; background-color: #dddddd; color: #222222\">conditional-branch</span>\n",
    "<br>\n",
    "<em>TeraShirt.product</em> テーブルには、TeraShirt社の商品の情報が格納されています。\n",
    "全ての商品について、単価をもとに'Low'、'Middle'、'High'という3つの価格帯へ分類してください。\n",
    "出力内容は、商品名、単価及び価格帯としてください。\n",
    "<ul>\n",
    "  <li>1000未満：'Low'</li>\n",
    "  <li>1000以上3000未満：'Middle'</li>\n",
    "  <li>3000以上：'High'</li>\n",
    "</ul>\n",
    "\n",
    "<details><summary>Answer</summary><pre style=\"margin: 1em 0; padding: 1em; border-radius: 5px; background-color: #25292f; white-space: pre-wrap;\"><code style=\"background-color: #25292f; color: #ffffff\">SELECT\n",
    "  name, standard_unit_price,\n",
    "  CASE\n",
    "    WHEN standard_unit_price < 1000 THEN 'Low'\n",
    "    WHEN standard_unit_price < 3000 THEN 'Middle'\n",
    "    WHEN standard_unit_price >= 3000 THEN 'High'\n",
    "    ELSE NULL\n",
    "  END AS price_range\n",
    "FROM\n",
    "  TeraShirt.product</code></pre></details>"
   ]
  },
  {
   "cell_type": "code",
   "execution_count": null,
   "id": "b93010ee",
   "metadata": {},
   "outputs": [],
   "source": [
    "%%tdquiz\n",
    "/* クエリを下記に記載 */\n",
    "\n",
    "\n",
    "\n",
    "\n"
   ]
  },
  {
   "cell_type": "markdown",
   "id": "53993241",
   "metadata": {},
   "source": [
    "<h3>顧客の誕生年</h3><span class=\"tag\" style=\"font-size: smaller; background-color: #dddddd; color: #222222\">aggregation</span> <span class=\"tag\" style=\"font-size: smaller; background-color: #dddddd; color: #222222\">conditional-branch</span> <span class=\"tag\" style=\"font-size: smaller; background-color: #dddddd; color: #222222\">date</span>\n",
    "<br>\n",
    "<em>TeraShirt.customer</em> テーブルには、TeraShirt社の顧客の情報が格納されています。\n",
    "顧客の誕生年ごとに人数を集計し、誕生年と人数を表示してください。\n",
    "ただし、誕生年が欠損している顧客については誕生年を9000としてください。\n",
    "\n",
    "<details><summary>Answer</summary><pre style=\"margin: 1em 0; padding: 1em; border-radius: 5px; background-color: #25292f; white-space: pre-wrap;\"><code style=\"background-color: #25292f; color: #ffffff\">SELECT\n",
    "  COALESCE(EXTRACT(year FROM birthday), 9000) AS birthyear,\n",
    "  COUNT(*) AS num_customers\n",
    "FROM\n",
    "  Terashirt.customer\n",
    "GROUP BY 1</code></pre></details>"
   ]
  },
  {
   "cell_type": "code",
   "execution_count": null,
   "id": "c483cabb",
   "metadata": {},
   "outputs": [],
   "source": [
    "%%tdquiz\n",
    "/* クエリを下記に記載 */\n",
    "\n",
    "\n",
    "\n",
    "\n"
   ]
  },
  {
   "cell_type": "markdown",
   "id": "f08a8196",
   "metadata": {},
   "source": [
    "<h3>最近登録した顧客</h3><span class=\"tag\" style=\"font-size: smaller; background-color: #dddddd; color: #222222\">date</span> <span class=\"tag\" style=\"font-size: smaller; background-color: #dddddd; color: #222222\">sort</span>\n",
    "<br>\n",
    "<em>TeraShirt.customer</em> テーブルには、TeraShirt社の顧客の情報が格納されています。\n",
    "登録日の新しい順に、最近登録した5人の顧客を表示してください。\n",
    "出力内容は、姓、名及び登録日としてください。\n",
    "\n",
    "<details><summary>Answer</summary><pre style=\"margin: 1em 0; padding: 1em; border-radius: 5px; background-color: #25292f; white-space: pre-wrap;\"><code style=\"background-color: #25292f; color: #ffffff\">SELECT\n",
    "  last_name, first_name, register_date\n",
    "FROM\n",
    "  TeraShirt.customer\n",
    "QUALIFY\n",
    "  RANK() OVER (ORDER BY register_date DESC) <= 5\n",
    "ORDER BY 3 DESC</code></pre></details>"
   ]
  },
  {
   "cell_type": "code",
   "execution_count": null,
   "id": "49fa950e",
   "metadata": {},
   "outputs": [],
   "source": [
    "%%tdquiz\n",
    "/* クエリを下記に記載 */\n",
    "\n",
    "\n",
    "\n",
    "\n"
   ]
  }
 ],
 "metadata": {},
 "nbformat": 4,
 "nbformat_minor": 5
}
