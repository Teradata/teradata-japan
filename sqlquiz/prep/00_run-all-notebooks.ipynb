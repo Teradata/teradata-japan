{
 "cells": [
  {
   "cell_type": "code",
   "execution_count": 1,
   "id": "205d8dc3-7d46-41b7-b7af-f4f0758188d9",
   "metadata": {},
   "outputs": [],
   "source": [
    "# This notebook runs all notebooks in this directory, except for itself."
   ]
  },
  {
   "cell_type": "code",
   "execution_count": 4,
   "id": "de06f024-c657-434a-8f21-82f468233690",
   "metadata": {},
   "outputs": [
    {
     "name": "stdout",
     "output_type": "stream",
     "text": [
      "[NbConvertApp] Converting notebook ./01_japan-cities.ipynb to notebook\n",
      "[NbConvertApp] Writing 660365 bytes to 01_japan-cities.ipynb\n",
      "CPU times: user 3.29 s, sys: 1.1 s, total: 4.4 s\n",
      "Wall time: 4min\n",
      "[NbConvertApp] Converting notebook ./02_japan-holidays.ipynb to notebook\n",
      "[NbConvertApp] Writing 14756 bytes to 02_japan-holidays.ipynb\n",
      "CPU times: user 86.8 ms, sys: 32.7 ms, total: 120 ms\n",
      "Wall time: 5.75 s\n",
      "[NbConvertApp] Converting notebook ./03_railways.ipynb to notebook\n",
      "[NbConvertApp] Writing 54649 bytes to 03_railways.ipynb\n",
      "CPU times: user 224 ms, sys: 81.4 ms, total: 305 ms\n",
      "Wall time: 16.6 s\n",
      "[NbConvertApp] Converting notebook ./04_terashirt-retail.ipynb to notebook\n",
      "[NbConvertApp] Writing 299756 bytes to 04_terashirt-retail.ipynb\n",
      "CPU times: user 86.6 ms, sys: 32.4 ms, total: 119 ms\n",
      "Wall time: 6.09 s\n",
      "[NbConvertApp] Converting notebook ./11_generate-notebooks.ipynb to notebook\n",
      "[NbConvertApp] Writing 6272 bytes to 11_generate-notebooks.ipynb\n",
      "CPU times: user 77.7 ms, sys: 28.6 ms, total: 106 ms\n",
      "Wall time: 5.39 s\n"
     ]
    }
   ],
   "source": [
    "import os\n",
    "from glob import glob\n",
    "files = glob(\"./*.ipynb\")\n",
    "files.sort()\n",
    "\n",
    "for f in files:\n",
    "    if os.path.basename(f).startswith(\"00\"):\n",
    "        continue  # skip this notebook\n",
    "    %time !jupyter nbconvert --execute --inplace {f}"
   ]
  },
  {
   "cell_type": "code",
   "execution_count": null,
   "id": "7471b8e0-418d-452f-b81f-04f2c6faca7a",
   "metadata": {},
   "outputs": [],
   "source": []
  }
 ],
 "metadata": {
  "kernelspec": {
   "display_name": "Python (sandbox)",
   "language": "python",
   "name": "sandbox"
  },
  "language_info": {
   "codemirror_mode": {
    "name": "ipython",
    "version": 3
   },
   "file_extension": ".py",
   "mimetype": "text/x-python",
   "name": "python",
   "nbconvert_exporter": "python",
   "pygments_lexer": "ipython3",
   "version": "3.10.12"
  }
 },
 "nbformat": 4,
 "nbformat_minor": 5
}
