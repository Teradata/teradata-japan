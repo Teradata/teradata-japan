{
 "cells": [
  {
   "cell_type": "markdown",
   "id": "31f6dfef",
   "metadata": {},
   "source": [
    "# SQL Basic"
   ]
  },
  {
   "cell_type": "code",
   "execution_count": null,
   "id": "caecbfbc",
   "metadata": {},
   "outputs": [],
   "source": [
    "# Run this cell to load the tdquiz magic command, that runs queries and return the results.\n",
    "%load_ext tdquiz\n",
    "\n",
    "# Test tdquiz magic command\n",
    "%tdquiz SELECT USER, SESSION, CURRENT_TIMESTAMP"
   ]
  },
  {
   "cell_type": "markdown",
   "id": "338841e2",
   "metadata": {},
   "source": [
    "<h3>All stores</h3>\n",
    "<br>\n",
    "<em>TeraShirt.store</em> table stores the information of stores of the TeraShirt company.\n",
    "Show the information of all stores of the TeraShirt company in that table (the output should contain all columns).\n",
    "\n",
    "<details><summary>Answer</summary><pre style=\"margin: 1em 0; padding: 1em; border-radius: 5px; background-color: #25292f; white-space: pre-wrap;\"><code style=\"background-color: #25292f; color: #ffffff\">SELECT * FROM TeraShirt.store</code></pre></details>"
   ]
  },
  {
   "cell_type": "code",
   "execution_count": null,
   "id": "adc6bdbc",
   "metadata": {},
   "outputs": [],
   "source": [
    "%%tdquiz\n",
    "/* Write your query blow */\n",
    "\n",
    "\n",
    "\n",
    "\n"
   ]
  },
  {
   "cell_type": "markdown",
   "id": "51661561",
   "metadata": {},
   "source": [
    "<h3>Employees in charge of designing</h3><span class=\"tag\" style=\"font-size: smaller; background-color: #dddddd; color: #222222\">comparison-operator</span>\n",
    "<br>\n",
    "<em>TeraShirt.employee</em> table stores the information of employees in the TeraShirt company.\n",
    "Show the ID, last name and first name of employees in charge of designing.\n",
    "<details><summary>Hint</summary>Check the <em>role</em> column.</details>\n",
    "<details><summary>Answer</summary><pre style=\"margin: 1em 0; padding: 1em; border-radius: 5px; background-color: #25292f; white-space: pre-wrap;\"><code style=\"background-color: #25292f; color: #ffffff\">SELECT\n",
    "  employee_id,\n",
    "  last_name,\n",
    "  first_name\n",
    "FROM\n",
    "  TeraShirt.employee\n",
    "WHERE\n",
    "  \"role\" = 'デザイナー'</code></pre></details>"
   ]
  },
  {
   "cell_type": "code",
   "execution_count": null,
   "id": "82571a10",
   "metadata": {},
   "outputs": [],
   "source": [
    "%%tdquiz\n",
    "/* Write your query blow */\n",
    "\n",
    "\n",
    "\n",
    "\n"
   ]
  },
  {
   "cell_type": "markdown",
   "id": "2a8becc4",
   "metadata": {},
   "source": [
    "<h3>Reporters\n",
    "</h3><span class=\"tag\" style=\"font-size: smaller; background-color: #dddddd; color: #222222\">filter</span>\n",
    "<br>\n",
    "Find the TeraShirt employees who reports to \"ブレンダ・クーパー\", and display the last name and first name.\n",
    "\n",
    "<details><summary>Answer</summary><pre style=\"margin: 1em 0; padding: 1em; border-radius: 5px; background-color: #25292f; white-space: pre-wrap;\"><code style=\"background-color: #25292f; color: #ffffff\">SELECT\n",
    "  last_name, first_name\n",
    "FROM\n",
    "  TeraShirt.employee\n",
    "WHERE\n",
    "  report_to IN (\n",
    "    SELECT employee_id FROM TeraShirt.employee WHERE first_name = 'ブレンダ' AND last_name = 'クーパー')</code></pre></details>"
   ]
  },
  {
   "cell_type": "code",
   "execution_count": null,
   "id": "c8e842b5",
   "metadata": {},
   "outputs": [],
   "source": [
    "%%tdquiz\n",
    "/* Write your query blow */\n",
    "\n",
    "\n",
    "\n",
    "\n"
   ]
  },
  {
   "cell_type": "markdown",
   "id": "38c182d0",
   "metadata": {},
   "source": [
    "<h3>Stores opened on and after January 1st, 2022</h3><span class=\"tag\" style=\"font-size: smaller; background-color: #dddddd; color: #222222\">comparison-operator</span> <span class=\"tag\" style=\"font-size: smaller; background-color: #dddddd; color: #222222\">date</span>\n",
    "<br>\n",
    "<em>TeraShirt.store</em> table stores the information of stores of the TeraShirt company.\n",
    "Show the name and open date of stores opened on and after January 1st, 2022.\n",
    "\n",
    "<details><summary>Answer</summary><pre style=\"margin: 1em 0; padding: 1em; border-radius: 5px; background-color: #25292f; white-space: pre-wrap;\"><code style=\"background-color: #25292f; color: #ffffff\">SELECT\n",
    "  name, open_date\n",
    "FROM\n",
    "  TeraShirt.store\n",
    "WHERE\n",
    "  open_date >= DATE'2022-01-01'</code></pre></details>"
   ]
  },
  {
   "cell_type": "code",
   "execution_count": null,
   "id": "0aa96a5b",
   "metadata": {},
   "outputs": [],
   "source": [
    "%%tdquiz\n",
    "/* Write your query blow */\n",
    "\n",
    "\n",
    "\n",
    "\n"
   ]
  },
  {
   "cell_type": "markdown",
   "id": "5b9e29d7",
   "metadata": {},
   "source": [
    "<h3>White or black t-shirts</h3><span class=\"tag\" style=\"font-size: smaller; background-color: #dddddd; color: #222222\">logical-operator</span>\n",
    "<br>\n",
    "<em>TeraShirt.product</em> table stores the information of products of the TeraShirt company.\n",
    "Show the product ID and name of white or black t-shirts.\n",
    "<details><summary>Hint</summary>The <em>type</em> column shows the kind of products.</details>\n",
    "<details><summary>Answer</summary><pre style=\"margin: 1em 0; padding: 1em; border-radius: 5px; background-color: #25292f; white-space: pre-wrap;\"><code style=\"background-color: #25292f; color: #ffffff\">SELECT\n",
    "  product_id, name\n",
    "FROM\n",
    "  TeraShirt.product a\n",
    "WHERE\n",
    "  color IN ('black', 'white')\n",
    "  AND \"type\" = 'tshirt'</code></pre></details>"
   ]
  },
  {
   "cell_type": "code",
   "execution_count": null,
   "id": "3e3c3b03",
   "metadata": {},
   "outputs": [],
   "source": [
    "%%tdquiz\n",
    "/* Write your query blow */\n",
    "\n",
    "\n",
    "\n",
    "\n"
   ]
  },
  {
   "cell_type": "markdown",
   "id": "0b90114f",
   "metadata": {},
   "source": [
    "<h3>Customers without birthday</h3><span class=\"tag\" style=\"font-size: smaller; background-color: #dddddd; color: #222222\">logical-operator</span> <span class=\"tag\" style=\"font-size: smaller; background-color: #dddddd; color: #222222\">missing-value</span>\n",
    "<br>\n",
    "<em>TeraShirt.customer</em> table stores the information of customers of the TeraShirt company.\n",
    "Show the ID, last name and first name of customers whose birthday is null.\n",
    "\n",
    "<details><summary>Answer</summary><pre style=\"margin: 1em 0; padding: 1em; border-radius: 5px; background-color: #25292f; white-space: pre-wrap;\"><code style=\"background-color: #25292f; color: #ffffff\">SELECT\n",
    "  customer_id,\n",
    "  last_name,\n",
    "  first_name\n",
    "FROM\n",
    "  TeraShirt.customer\n",
    "WHERE\n",
    "  birthday IS NULL</code></pre></details>"
   ]
  },
  {
   "cell_type": "code",
   "execution_count": null,
   "id": "2a5b238b",
   "metadata": {},
   "outputs": [],
   "source": [
    "%%tdquiz\n",
    "/* Write your query blow */\n",
    "\n",
    "\n",
    "\n",
    "\n"
   ]
  },
  {
   "cell_type": "markdown",
   "id": "9bdd8078",
   "metadata": {},
   "source": [
    "<h3>The salary of employees</h3><span class=\"tag\" style=\"font-size: smaller; background-color: #dddddd; color: #222222\">sort</span>\n",
    "<br>\n",
    "<em>TeraShirt.employee</em> table stores the information of employees in the TeraShirt company.\n",
    "Please display employees' ID, last name, first name and salary sorted by the salary in descending order.\n",
    "\n",
    "<details><summary>Answer</summary><pre style=\"margin: 1em 0; padding: 1em; border-radius: 5px; background-color: #25292f; white-space: pre-wrap;\"><code style=\"background-color: #25292f; color: #ffffff\">SELECT\n",
    "  employee_id,\n",
    "  last_name,\n",
    "  first_name,\n",
    "  salary,\n",
    "  RANK() OVER (ORDER BY salary DESC) AS \"rank\"\n",
    "FROM\n",
    "  TeraShirt.employee</code></pre></details>"
   ]
  },
  {
   "cell_type": "code",
   "execution_count": null,
   "id": "70b60f45",
   "metadata": {},
   "outputs": [],
   "source": [
    "%%tdquiz\n",
    "/* Write your query blow */\n",
    "\n",
    "\n",
    "\n",
    "\n"
   ]
  },
  {
   "cell_type": "markdown",
   "id": "aa97dc62",
   "metadata": {},
   "source": [
    "<h3>The age of employees</h3><span class=\"tag\" style=\"font-size: smaller; background-color: #dddddd; color: #222222\">arithmetic-operator</span> <span class=\"tag\" style=\"font-size: smaller; background-color: #dddddd; color: #222222\">date</span> <span class=\"tag\" style=\"font-size: smaller; background-color: #dddddd; color: #222222\">math</span>\n",
    "<br>\n",
    "<em>TeraShirt.employee</em> table stores the information of employees in the TeraShirt company.\n",
    "Calculate the current age of employees using the birthday and show the employee ID, last name, first name and age.\n",
    "For simplicity, please assume that a person \"gains one year in 365 days\".\n",
    "<details><summary>Hint</summary>You can calculate the age as the difference of the birthday and the current date.</details>\n",
    "<details><summary>Answer</summary><pre style=\"margin: 1em 0; padding: 1em; border-radius: 5px; background-color: #25292f; white-space: pre-wrap;\"><code style=\"background-color: #25292f; color: #ffffff\">SELECT\n",
    "  employee_id\n",
    "  ,last_name\n",
    "  ,first_name\n",
    "  ,(CURRENT_DATE - birthday) / 365 AS age\n",
    "FROM\n",
    "  TeraShirt.employee</code></pre></details>"
   ]
  },
  {
   "cell_type": "code",
   "execution_count": null,
   "id": "f9d3fead",
   "metadata": {},
   "outputs": [],
   "source": [
    "%%tdquiz\n",
    "/* Write your query blow */\n",
    "\n",
    "\n",
    "\n",
    "\n"
   ]
  },
  {
   "cell_type": "markdown",
   "id": "244dd32c",
   "metadata": {},
   "source": [
    "<h3>No sales products</h3><span class=\"tag\" style=\"font-size: smaller; background-color: #dddddd; color: #222222\">logical-operator</span>\n",
    "<br>\n",
    "<em>TeraShirt.product</em> table stores the information of products of the TeraShirt company, and\n",
    "<em>TeraShirt.store_sales</em> table stores the information of its sales.<br />\n",
    "Using these tables, check whether there are products with no sales recorded.\n",
    "If yes, the output should be the string 'YES'.\n",
    "Otherwise the output should be nothing.\n",
    "<details><summary>Hint</summary>No sales means that the product doesn't appear in <em>TeraShirt.store_sales</em> table.</details>\n",
    "<details><summary>Answer</summary><pre style=\"margin: 1em 0; padding: 1em; border-radius: 5px; background-color: #25292f; white-space: pre-wrap;\"><code style=\"background-color: #25292f; color: #ffffff\">SELECT DISTINCT\n",
    "  'YES'\n",
    "FROM\n",
    "  TeraShirt.product\n",
    "WHERE\n",
    "  product_id NOT IN ( SELECT product_id FROM TeraShirt.store_sales)</code></pre></details>"
   ]
  },
  {
   "cell_type": "code",
   "execution_count": null,
   "id": "aab666dd",
   "metadata": {},
   "outputs": [],
   "source": [
    "%%tdquiz\n",
    "/* Write your query blow */\n",
    "\n",
    "\n",
    "\n",
    "\n"
   ]
  },
  {
   "cell_type": "markdown",
   "id": "4ad6968b",
   "metadata": {},
   "source": [
    "<h3>Customers who registered in June</h3><span class=\"tag\" style=\"font-size: smaller; background-color: #dddddd; color: #222222\">date</span>\n",
    "<br>\n",
    "<em>TeraShirt.customer</em> table stores the information of customers of the TeraShirt company.\n",
    "Show customers who registered in June.\n",
    "The output should contain the customer ID, last name, first name and register date.\n",
    "\n",
    "<details><summary>Answer</summary><pre style=\"margin: 1em 0; padding: 1em; border-radius: 5px; background-color: #25292f; white-space: pre-wrap;\"><code style=\"background-color: #25292f; color: #ffffff\">SELECT\n",
    "  customer_id,\n",
    "  last_name,\n",
    "  first_name,\n",
    "  register_date\n",
    "FROM\n",
    "  TeraShirt.customer\n",
    "WHERE\n",
    "  register_date BETWEEN DATE'2021-06-01' AND DATE'2021-06-30'</code></pre></details>"
   ]
  },
  {
   "cell_type": "code",
   "execution_count": null,
   "id": "20990bc6",
   "metadata": {},
   "outputs": [],
   "source": [
    "%%tdquiz\n",
    "/* Write your query blow */\n",
    "\n",
    "\n",
    "\n",
    "\n"
   ]
  },
  {
   "cell_type": "markdown",
   "id": "680d2415",
   "metadata": {},
   "source": [
    "<h3>The prefecture of stores</h3><span class=\"tag\" style=\"font-size: smaller; background-color: #dddddd; color: #222222\">string</span>\n",
    "<br>\n",
    "<em>TeraShirt.store</em> table stores the information of stores of the TeraShirt company.\n",
    "Show the prefecture of stores without '都', '道', '府' and '県' which represent the administrative district.\n",
    "The output should be the store name and prefecture without the administrative district.\n",
    "\n",
    "<details><summary>Answer</summary><pre style=\"margin: 1em 0; padding: 1em; border-radius: 5px; background-color: #25292f; white-space: pre-wrap;\"><code style=\"background-color: #25292f; color: #ffffff\">SELECT\n",
    "  name, SUBSTRING(prefecture FROM 1 FOR LENGTH(prefecture)-1) AS prefecture\n",
    "FROM\n",
    "  TeraShirt.store</code></pre></details>"
   ]
  },
  {
   "cell_type": "code",
   "execution_count": null,
   "id": "7079733d",
   "metadata": {},
   "outputs": [],
   "source": [
    "%%tdquiz\n",
    "/* Write your query blow */\n",
    "\n",
    "\n",
    "\n",
    "\n"
   ]
  },
  {
   "cell_type": "markdown",
   "id": "f24ed9c8",
   "metadata": {},
   "source": [
    "<h3>Sold products in December 2021</h3><span class=\"tag\" style=\"font-size: smaller; background-color: #dddddd; color: #222222\">date</span> <span class=\"tag\" style=\"font-size: smaller; background-color: #dddddd; color: #222222\">join</span>\n",
    "<br>\n",
    "<em>TeraShirt.store_sales</em> table stores the information of sales of the TeraShirt company.\n",
    "<em>TeraShirt.product</em> table stores the information of products of the TeraShirt company.<br />\n",
    "For sold products in December 2021, show the timestamp, customer ID, product ID and product name.\n",
    "<details><summary>Hint</summary>Both tables include the product ID.</details>\n",
    "<details><summary>Answer</summary><pre style=\"margin: 1em 0; padding: 1em; border-radius: 5px; background-color: #25292f; white-space: pre-wrap;\"><code style=\"background-color: #25292f; color: #ffffff\">SELECT\n",
    "  s.purchase_timestamp, s.customer_id, s.product_id, p.name\n",
    "FROM\n",
    "  TeraShirt.store_sales AS s\n",
    "  INNER JOIN TeraShirt.product AS p\n",
    "    ON s.product_id = p.product_id\n",
    "WHERE\n",
    "  purchase_date BETWEEN DATE'2021-12-01' AND DATE'2021-12-31'</code></pre></details>"
   ]
  },
  {
   "cell_type": "code",
   "execution_count": null,
   "id": "869ca852",
   "metadata": {},
   "outputs": [],
   "source": [
    "%%tdquiz\n",
    "/* Write your query blow */\n",
    "\n",
    "\n",
    "\n",
    "\n"
   ]
  },
  {
   "cell_type": "markdown",
   "id": "ef514302",
   "metadata": {},
   "source": [
    "<h3>Someone whose birthday is August 10th, 1989</h3><span class=\"tag\" style=\"font-size: smaller; background-color: #dddddd; color: #222222\">date</span> <span class=\"tag\" style=\"font-size: smaller; background-color: #dddddd; color: #222222\">set-operator</span>\n",
    "<br>\n",
    "<em>TeraShirt.customer</em> table stores the information of customers of the TeraShirt company, and\n",
    "<em>TeraShirt.employee</em> table stores the information of its employees.<br />\n",
    "Of all customers and employees, show the last name and first name of someone whose birthday is August 10th, 1989.\n",
    "\n",
    "<details><summary>Answer</summary><pre style=\"margin: 1em 0; padding: 1em; border-radius: 5px; background-color: #25292f; white-space: pre-wrap;\"><code style=\"background-color: #25292f; color: #ffffff\">SELECT\n",
    "  last_name, first_name\n",
    "FROM\n",
    "  TeraShirt.employee\n",
    "WHERE\n",
    "  birthday = DATE'1989-08-10'</code></pre></details>"
   ]
  },
  {
   "cell_type": "code",
   "execution_count": null,
   "id": "9edce533",
   "metadata": {},
   "outputs": [],
   "source": [
    "%%tdquiz\n",
    "/* Write your query blow */\n",
    "\n",
    "\n",
    "\n",
    "\n"
   ]
  },
  {
   "cell_type": "markdown",
   "id": "fa3bdbfe",
   "metadata": {},
   "source": [
    "<h3>Employees who are not the manager</h3><span class=\"tag\" style=\"font-size: smaller; background-color: #dddddd; color: #222222\">set-operator</span>\n",
    "<br>\n",
    "<em>TeraShirt.employee</em> table stores the information of employees in the TeraShirt company.\n",
    "Show the ID, last name and first name of employees who are not the manager.\n",
    "When executing the query, please use the set operator.\n",
    "\n",
    "<details><summary>Answer</summary><pre style=\"margin: 1em 0; padding: 1em; border-radius: 5px; background-color: #25292f; white-space: pre-wrap;\"><code style=\"background-color: #25292f; color: #ffffff\">SELECT\n",
    "  employee_id, last_name, first_name\n",
    "FROM\n",
    "  TeraShirt.employee\n",
    "WHERE\n",
    "  employee_id NOT IN ( SELECT report_to FROM TeraShirt.employee )</code></pre></details>"
   ]
  },
  {
   "cell_type": "code",
   "execution_count": null,
   "id": "d7a17e3a",
   "metadata": {},
   "outputs": [],
   "source": [
    "%%tdquiz\n",
    "/* Write your query blow */\n",
    "\n",
    "\n",
    "\n",
    "\n"
   ]
  },
  {
   "cell_type": "markdown",
   "id": "be0ce8ae",
   "metadata": {},
   "source": [
    "<h3>Sold products of which the total quantity is 30 or more</h3><span class=\"tag\" style=\"font-size: smaller; background-color: #dddddd; color: #222222\">aggregation</span> <span class=\"tag\" style=\"font-size: smaller; background-color: #dddddd; color: #222222\">conditional-expression</span>\n",
    "<br>\n",
    "<em>TeraShirt.store_sales</em> table stores the information of sales of the TeraShirt company.\n",
    "Aggregate the quantity of sold products and show the product ID and total quantity which is 30 or more.\n",
    "\n",
    "<details><summary>Answer</summary><pre style=\"margin: 1em 0; padding: 1em; border-radius: 5px; background-color: #25292f; white-space: pre-wrap;\"><code style=\"background-color: #25292f; color: #ffffff\">SELECT\n",
    "  product_id, SUM(quantity) AS quantity\n",
    "FROM\n",
    "  terashirt.store_sales\n",
    "GROUP BY 1\n",
    "HAVING SUM(quantity) >= 30</code></pre></details>"
   ]
  },
  {
   "cell_type": "code",
   "execution_count": null,
   "id": "48581990",
   "metadata": {},
   "outputs": [],
   "source": [
    "%%tdquiz\n",
    "/* Write your query blow */\n",
    "\n",
    "\n",
    "\n",
    "\n"
   ]
  },
  {
   "cell_type": "markdown",
   "id": "ea27ec12",
   "metadata": {},
   "source": [
    "<h3>Ranking of the unit price of products</h3><span class=\"tag\" style=\"font-size: smaller; background-color: #dddddd; color: #222222\">sort</span>\n",
    "<br>\n",
    "<em>TeraShirt.product</em> table stores the information of products of the TeraShirt company.\n",
    "Rank the unit price of products in descending order and show the product name, unit price and ranking.\n",
    "\n",
    "<details><summary>Answer</summary><pre style=\"margin: 1em 0; padding: 1em; border-radius: 5px; background-color: #25292f; white-space: pre-wrap;\"><code style=\"background-color: #25292f; color: #ffffff\">SELECT\n",
    "  name, standard_unit_price,\n",
    "  RANK() OVER (ORDER BY standard_unit_price DESC)\n",
    "FROM\n",
    "  TeraShirt.product</code></pre></details>"
   ]
  },
  {
   "cell_type": "code",
   "execution_count": null,
   "id": "597fe4f0",
   "metadata": {},
   "outputs": [],
   "source": [
    "%%tdquiz\n",
    "/* Write your query blow */\n",
    "\n",
    "\n",
    "\n",
    "\n"
   ]
  },
  {
   "cell_type": "markdown",
   "id": "a435edc8",
   "metadata": {},
   "source": [
    "<h3>Ranking of the salary by the role</h3><span class=\"tag\" style=\"font-size: smaller; background-color: #dddddd; color: #222222\">sort</span>\n",
    "<br>\n",
    "<em>TeraShirt.employee</em> table stores the information of employees in the TeraShirt company.\n",
    "Rank the salary by the role in descending order and show the role, last name, first name, salary and ranking.\n",
    "\n",
    "<details><summary>Answer</summary><pre style=\"margin: 1em 0; padding: 1em; border-radius: 5px; background-color: #25292f; white-space: pre-wrap;\"><code style=\"background-color: #25292f; color: #ffffff\">SELECT\n",
    "  \"role\",\n",
    "  last_name,\n",
    "  first_name,\n",
    "  salary,\n",
    "  RANK() OVER (PARTITION BY \"role\" ORDER BY salary DESC) AS \"rank\"\n",
    "FROM\n",
    "  TeraShirt.employee</code></pre></details>"
   ]
  },
  {
   "cell_type": "code",
   "execution_count": null,
   "id": "30bb78bc",
   "metadata": {},
   "outputs": [],
   "source": [
    "%%tdquiz\n",
    "/* Write your query blow */\n",
    "\n",
    "\n",
    "\n",
    "\n"
   ]
  },
  {
   "cell_type": "markdown",
   "id": "87001769",
   "metadata": {},
   "source": [
    "<h3>The full name of employees</h3><span class=\"tag\" style=\"font-size: smaller; background-color: #dddddd; color: #222222\">string</span>\n",
    "<br>\n",
    "<em>TeraShirt.employee</em> table stores the information of employees in the TeraShirt company.\n",
    "Concatenate the last name and first name of employees and show the full name.\n",
    "The output should contain a space between the last name and first name.\n",
    "\n",
    "<details><summary>Answer</summary><pre style=\"margin: 1em 0; padding: 1em; border-radius: 5px; background-color: #25292f; white-space: pre-wrap;\"><code style=\"background-color: #25292f; color: #ffffff\">SELECT\n",
    "  last_name || ' ' || first_name AS full_name\n",
    "FROM\n",
    "  TeraShirt.employee</code></pre></details>"
   ]
  },
  {
   "cell_type": "code",
   "execution_count": null,
   "id": "52fdd136",
   "metadata": {},
   "outputs": [],
   "source": [
    "%%tdquiz\n",
    "/* Write your query blow */\n",
    "\n",
    "\n",
    "\n",
    "\n"
   ]
  },
  {
   "cell_type": "markdown",
   "id": "2de1d8c0",
   "metadata": {},
   "source": [
    "<h3>The price range of products</h3><span class=\"tag\" style=\"font-size: smaller; background-color: #dddddd; color: #222222\">comparison-operator</span> <span class=\"tag\" style=\"font-size: smaller; background-color: #dddddd; color: #222222\">conditional-branch</span>\n",
    "<br>\n",
    "<em>TeraShirt.product</em> table stores the information of products of the TeraShirt company.\n",
    "Categorize products into 3 price ranges below based on the unit price.\n",
    "The output should contain the product name, unit price and price range.\n",
    "<ul>\n",
    "  <li>less than 1000: 'Low'</li>\n",
    "  <li>greater than or equal to 1000 and less than 3000: 'Middle'</li>\n",
    "  <li>greater than or equal to 3000: 'High'</li>\n",
    "</ul>\n",
    "\n",
    "<details><summary>Answer</summary><pre style=\"margin: 1em 0; padding: 1em; border-radius: 5px; background-color: #25292f; white-space: pre-wrap;\"><code style=\"background-color: #25292f; color: #ffffff\">SELECT\n",
    "  name, standard_unit_price,\n",
    "  CASE\n",
    "    WHEN standard_unit_price < 1000 THEN 'Low'\n",
    "    WHEN standard_unit_price < 3000 THEN 'Middle'\n",
    "    WHEN standard_unit_price >= 3000 THEN 'High'\n",
    "    ELSE NULL\n",
    "  END AS price_range\n",
    "FROM\n",
    "  TeraShirt.product</code></pre></details>"
   ]
  },
  {
   "cell_type": "code",
   "execution_count": null,
   "id": "76a5a138",
   "metadata": {},
   "outputs": [],
   "source": [
    "%%tdquiz\n",
    "/* Write your query blow */\n",
    "\n",
    "\n",
    "\n",
    "\n"
   ]
  },
  {
   "cell_type": "markdown",
   "id": "edb4122f",
   "metadata": {},
   "source": [
    "<h3>The birthyear of customers</h3><span class=\"tag\" style=\"font-size: smaller; background-color: #dddddd; color: #222222\">aggregation</span> <span class=\"tag\" style=\"font-size: smaller; background-color: #dddddd; color: #222222\">conditional-branch</span> <span class=\"tag\" style=\"font-size: smaller; background-color: #dddddd; color: #222222\">date</span>\n",
    "<br>\n",
    "<em>TeraShirt.customer</em> table stores the information of customers of the TeraShirt company.\n",
    "Show the birthyear and the number of customers aggregated by the birthyear.\n",
    "For customers whose birthyear is null, please assume that their birthyear is 9000.\n",
    "\n",
    "<details><summary>Answer</summary><pre style=\"margin: 1em 0; padding: 1em; border-radius: 5px; background-color: #25292f; white-space: pre-wrap;\"><code style=\"background-color: #25292f; color: #ffffff\">SELECT\n",
    "  COALESCE(EXTRACT(year FROM birthday), 9000) AS birthyear,\n",
    "  COUNT(*) AS num_customers\n",
    "FROM\n",
    "  Terashirt.customer\n",
    "GROUP BY 1</code></pre></details>"
   ]
  },
  {
   "cell_type": "code",
   "execution_count": null,
   "id": "35e23ac4",
   "metadata": {},
   "outputs": [],
   "source": [
    "%%tdquiz\n",
    "/* Write your query blow */\n",
    "\n",
    "\n",
    "\n",
    "\n"
   ]
  },
  {
   "cell_type": "markdown",
   "id": "bb60adfb",
   "metadata": {},
   "source": [
    "<h3>Customers who recently registered</h3><span class=\"tag\" style=\"font-size: smaller; background-color: #dddddd; color: #222222\">date</span> <span class=\"tag\" style=\"font-size: smaller; background-color: #dddddd; color: #222222\">sort</span>\n",
    "<br>\n",
    "<em>TeraShirt.customer</em> table stores the information of customers of the TeraShirt company.\n",
    "Show latest 5 customers sorted by the register date in descending order.\n",
    "The output should contain the last name, first name and register date.\n",
    "\n",
    "<details><summary>Answer</summary><pre style=\"margin: 1em 0; padding: 1em; border-radius: 5px; background-color: #25292f; white-space: pre-wrap;\"><code style=\"background-color: #25292f; color: #ffffff\">SELECT\n",
    "  last_name, first_name, register_date\n",
    "FROM\n",
    "  TeraShirt.customer\n",
    "QUALIFY\n",
    "  RANK() OVER (ORDER BY register_date DESC) <= 5\n",
    "ORDER BY 3 DESC</code></pre></details>"
   ]
  },
  {
   "cell_type": "code",
   "execution_count": null,
   "id": "1e1c1732",
   "metadata": {},
   "outputs": [],
   "source": [
    "%%tdquiz\n",
    "/* Write your query blow */\n",
    "\n",
    "\n",
    "\n",
    "\n"
   ]
  }
 ],
 "metadata": {},
 "nbformat": 4,
 "nbformat_minor": 5
}
