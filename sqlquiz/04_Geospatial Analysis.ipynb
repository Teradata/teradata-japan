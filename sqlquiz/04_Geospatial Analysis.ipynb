{
 "cells": [
  {
   "cell_type": "markdown",
   "id": "a5777f63",
   "metadata": {},
   "source": [
    "# 地理情報分析"
   ]
  },
  {
   "cell_type": "code",
   "execution_count": null,
   "id": "0cdbdbed",
   "metadata": {},
   "outputs": [],
   "source": [
    "# このセルはそのまま実行して、tdquiz マジックコマンドをロードしてください。\n",
    "# tdquiz コマンドはクエリを実行してその結果を返します。\n",
    "%load_ext tdquiz\n",
    "\n",
    "# tdquiz コマンドをテスト\n",
    "%tdquiz SELECT USER, SESSION, CURRENT_TIMESTAMP"
   ]
  },
  {
   "cell_type": "markdown",
   "id": "1c0a69a1",
   "metadata": {},
   "source": [
    "<h3>２つのオフィス間の距離</h3><span class=\"tag\" style=\"font-size: smaller; background-color: #dddddd; color: #222222\">geospatial</span> <span class=\"tag\" style=\"font-size: smaller; background-color: #dddddd; color: #222222\">distance</span>\n",
    "<br>\n",
    "<em>facilities.teradata_offices</em> テーブルには、Teradata社のオフィスの所在地情報が格納されています。そのうち２つは日本のオフィスです。\n",
    "これら２つのオフィス間の距離を km 単位で計算してください。\n",
    "ただし、距離計算には<a href=\"https://ja.wikipedia.org/wiki/%E5%A4%A7%E5%86%86%E8%B7%9D%E9%9B%A2\" rel=\"noopener noreferrer\" target=\"_blank\">大円距離公式</a>を用いること。\n",
    "<details><summary>Hint</summary><ul>\n",
    "<li><a href=\"https://docs.teradata.com/r/Teradata-VantageTM-Geospatial-Data-Types-17.20/ST_Point-Methods/ST_SphericalDistance\" rel=\"noopener noreferrer\" target=\"_blank\">Geospatial Data Types (マニュアル)</a>\n",
    "</ul></details>\n",
    "<details><summary>Answer</summary><pre style=\"margin: 1em 0; padding: 1em; border-radius: 5px; background-color: #25292f; white-space: pre-wrap;\"><code style=\"background-color: #25292f; color: #ffffff\">SELECT\n",
    "  (NEW ST_Geometry('ST_Point', a.longitude, a.latitude)).ST_SphericalDistance(\n",
    "    NEW ST_Geometry('ST_Point', b.longitude, b.latitude)) / 1000 AS distance_km\n",
    "FROM\n",
    "  facilities.teradata_offices AS a\n",
    "  INNER JOIN facilities.teradata_offices AS b\n",
    "    ON a.office_name < b.office_name\n",
    "       AND a.country = 'jpn'\n",
    "       AND b.country = 'jpn'</code></pre></details>"
   ]
  },
  {
   "cell_type": "code",
   "execution_count": null,
   "id": "80c86a4f",
   "metadata": {},
   "outputs": [],
   "source": [
    "%%tdquiz\n",
    "/* クエリを下記に記載 */\n",
    "\n",
    "\n",
    "\n",
    "\n"
   ]
  },
  {
   "cell_type": "markdown",
   "id": "b52ce903",
   "metadata": {},
   "source": [
    "<h3>村にある新幹線駅</h3><span class=\"tag\" style=\"font-size: smaller; background-color: #dddddd; color: #222222\">geospatial</span> <span class=\"tag\" style=\"font-size: smaller; background-color: #dddddd; color: #222222\">join</span>\n",
    "<br>\n",
    "新幹線の駅のうちで村にあるものをすべて抽出し、その路線名、都道府県名、村名、駅名を表示してください。\n",
    "<details><summary>Hint</summary><ul>\n",
    "<li><em>japan.cities</em>, <em>facilities.stations</em>, <em>facilities.shinkansen</em>\n",
    "<li>図形が「含まれている」に該当する関数は？\n",
    "<li><a href=\"https://docs.teradata.com/r/Teradata-VantageTM-Geospatial-Data-Types/July-2021/ST_Geometry-Constructors-and-Methods\" rel=\"noopener noreferrer\" target=\"_blank\">Geometry methods (マニュアル)</a>\n",
    "</ul></details>\n",
    "<details><summary>Answer</summary><pre style=\"margin: 1em 0; padding: 1em; border-radius: 5px; background-color: #25292f; white-space: pre-wrap;\"><code style=\"background-color: #25292f; color: #ffffff\">SELECT\n",
    "  s.line_name,\n",
    "  c.pref_name,\n",
    "  c.city_name,\n",
    "  s.station_name\n",
    "FROM\n",
    "  facilities.stations AS s\n",
    "  INNER JOIN japan.cities AS c\n",
    "    ON c.geometry.ST_INTERSECTS(s.geometry) = 1\n",
    "WHERE \n",
    "  s.line_name IN ( SELECT DISTINCT line_name FROM facilities.shinkansen )\n",
    "  AND RIGHT(c.city_name, 1) = '村'</code></pre></details>"
   ]
  },
  {
   "cell_type": "code",
   "execution_count": null,
   "id": "cc6e297e",
   "metadata": {},
   "outputs": [],
   "source": [
    "%%tdquiz\n",
    "/* クエリを下記に記載 */\n",
    "\n",
    "\n",
    "\n",
    "\n"
   ]
  },
  {
   "cell_type": "markdown",
   "id": "d1e1da9e",
   "metadata": {},
   "source": [
    "<h3>最果ての駅</h3><span class=\"tag\" style=\"font-size: smaller; background-color: #dddddd; color: #222222\">geospatial</span>\n",
    "<br>\n",
    "日本最北端、最南端、最西端、最東端の駅はどこですか？\n",
    "<details><summary>Hint</summary><ul>\n",
    "<li><em>ST_X, ST_Y</em> を調べてみてください。\n",
    "<li><a href=\"https://docs.teradata.com/r/Teradata-VantageTM-Geospatial-Data-Types/July-2021/ST_Geometry-Constructors-and-Methods\" rel=\"noopener noreferrer\" target=\"_blank\">Geometry methods (マニュアル)</a>\n",
    "<li><a href=\"https://tabi-mag.jp/station-news/\" rel=\"noopener noreferrer\" target=\"_blank\">よければ解いた後に</a>\n",
    "</ul></details>\n",
    "<details><summary>Answer</summary><pre style=\"margin: 1em 0; padding: 1em; border-radius: 5px; background-color: #25292f; white-space: pre-wrap;\"><code style=\"background-color: #25292f; color: #ffffff\">with ends AS (\n",
    "  SELECT\n",
    "    MIN(geometry.ST_X()) AS east_end,\n",
    "    MAX(geometry.ST_X()) AS west_end,\n",
    "    MIN(geometry.ST_Y()) AS south_end,\n",
    "    MAX(geometry.ST_Y()) AS north_end\n",
    "  FROM\n",
    "    facilities.stations\n",
    ")\n",
    "SELECT\n",
    "  north.station_name AS northmost,\n",
    "  south.station_name AS southmost,\n",
    "  west.station_name AS westmost,\n",
    "  east.station_name AS eastmost\n",
    "FROM\n",
    "  ends\n",
    "  INNER JOIN facilities.stations AS east ON east.geometry.ST_X() = ends.east_end\n",
    "  INNER JOIN facilities.stations AS west ON west.geometry.ST_X() = ends.west_end\n",
    "  INNER JOIN facilities.stations AS north ON north.geometry.ST_Y() = ends.north_end\n",
    "  INNER JOIN facilities.stations AS south ON south.geometry.ST_Y() = ends.south_end</code></pre></details>"
   ]
  },
  {
   "cell_type": "code",
   "execution_count": null,
   "id": "91cfcf24",
   "metadata": {},
   "outputs": [],
   "source": [
    "%%tdquiz\n",
    "/* クエリを下記に記載 */\n",
    "\n",
    "\n",
    "\n",
    "\n"
   ]
  },
  {
   "cell_type": "markdown",
   "id": "fe0b0d4d",
   "metadata": {},
   "source": [
    "<h3>新幹線が止まらない都道府県</h3><span class=\"tag\" style=\"font-size: smaller; background-color: #dddddd; color: #222222\">geospatial</span> <span class=\"tag\" style=\"font-size: smaller; background-color: #dddddd; color: #222222\">join</span>\n",
    "<br>\n",
    "都道府県のうち新幹線が通るものを抽出し、その停車駅の数を計算してください。通過するだけで停車はしない都道府県ははありますか？\n",
    "結果は 都道府県名と新幹線駅の数として、駅の数と都道府県名について降順に並べてください。\n",
    "<details><summary>Hint</summary><ul>\n",
    "<li><em>japan.cities</em>, <em>facilities.stations</em>, <em>facilities.shinkansen</em>\n",
    "<li>図形が「含まれている」に該当する関数は？\n",
    "<li><a href=\"https://docs.teradata.com/r/Teradata-VantageTM-Geospatial-Data-Types/July-2021/ST_Geometry-Constructors-and-Methods\" rel=\"noopener noreferrer\" target=\"_blank\">Geometry methods (マニュアル)</a>\n",
    "<li><a href=\"https://news.mynavi.jp/article/trivia-435/\" rel=\"noopener noreferrer\" target=\"_blank\">よければ解いた後に</a>\n",
    "</ul></details>\n",
    "<details><summary>Answer</summary><pre style=\"margin: 1em 0; padding: 1em; border-radius: 5px; background-color: #25292f; white-space: pre-wrap;\"><code style=\"background-color: #25292f; color: #ffffff\">WITH tmp AS (\n",
    "  SELECT DISTINCT\n",
    "    p.pref_name\n",
    "  FROM\n",
    "    japan.prefectures AS p\n",
    "    INNER JOIN facilities.shinkansen AS s\n",
    "      ON p.geometry.ST_INTERSECTS(s.geometry) = 1\n",
    "),\n",
    "tmp2 AS (\n",
    "  SELECT\n",
    "    p.pref_name, count(*) AS num_stations\n",
    "  FROM\n",
    "    facilities.stations AS s\n",
    "    INNER JOIN japan.prefectures AS p\n",
    "      ON p.geometry.ST_INTERSECTS(s.geometry) = 1\n",
    "  WHERE\n",
    "    s.line_name IN ( SELECT DISTINCT line_name FROM facilities.shinkansen )\n",
    "  GROUP BY 1\n",
    ")\n",
    "SELECT\n",
    "  a.pref_name,\n",
    "  COALESCE(b.num_stations, 0) AS num_stations\n",
    "FROM\n",
    "  tmp AS a LEFT JOIN tmp2 AS b ON a.pref_name = b.pref_name\n",
    "ORDER BY 2,1</code></pre></details>"
   ]
  },
  {
   "cell_type": "code",
   "execution_count": null,
   "id": "6cf31f63",
   "metadata": {},
   "outputs": [],
   "source": [
    "%%tdquiz\n",
    "/* クエリを下記に記載 */\n",
    "\n",
    "\n",
    "\n",
    "\n"
   ]
  },
  {
   "cell_type": "markdown",
   "id": "1c9471f6",
   "metadata": {},
   "source": [
    "<h3>飛び地の市区町村</h3><span class=\"tag\" style=\"font-size: smaller; background-color: #dddddd; color: #222222\">geospatial</span>\n",
    "<br>\n",
    "地方自治体の中には、何らかの事情で飛び地が存在する（直接つながらない複数の部分に分かれている）ものがあります。\n",
    "群馬県に存在する飛び地の市区町村の名前をすべて表示してください。\n",
    "<details><summary>Hint</summary><ul>\n",
    "<li><em>japan.cities</em> を使います\n",
    "<li><a href=\"https://docs.teradata.com/r/Teradata-VantageTM-Geospatial-Data-Types/July-2021/ST_Geometry-Constructors-and-Methods/ST_GeometryType-Method\" rel=\"noopener noreferrer\" target=\"_blank\">ST_GeometryType (マニュアル)</a>\n",
    "<li>複数に分かれた幾何情報タイプとは？\n",
    "<li><a href=\"https://ja.wikipedia.org/wiki/%E9%A3%9B%E5%9C%B0\" rel=\"noopener noreferrer\" target=\"_blank\">飛び地 (Wikipedia)</a>\n",
    "</ul></details>\n",
    "<details><summary>Answer</summary><pre style=\"margin: 1em 0; padding: 1em; border-radius: 5px; background-color: #25292f; white-space: pre-wrap;\"><code style=\"background-color: #25292f; color: #ffffff\">SELECT\n",
    "  pref_name, city_name\n",
    "FROM\n",
    "  japan.cities\n",
    "WHERE\n",
    "  pref_name = '群馬県'\n",
    "  AND geometry.ST_GeometryType() = 'ST_MultiPolygon'</code></pre></details>"
   ]
  },
  {
   "cell_type": "code",
   "execution_count": null,
   "id": "0ae4fafc",
   "metadata": {},
   "outputs": [],
   "source": [
    "%%tdquiz\n",
    "/* クエリを下記に記載 */\n",
    "\n",
    "\n",
    "\n",
    "\n"
   ]
  },
  {
   "cell_type": "markdown",
   "id": "9d165f5f",
   "metadata": {},
   "source": [
    "<h3>地理情報列の一覧\n",
    "</h3><span class=\"tag\" style=\"font-size: smaller; background-color: #dddddd; color: #222222\">teradata-specific</span> <span class=\"tag\" style=\"font-size: smaller; background-color: #dddddd; color: #222222\">ddl</span>\n",
    "<br>\n",
    "<em>japan</em>, <em>facilities</em>, <em>TeraShirt</em> データベースに含まれるテーブルについて、地理情報型 (ST_Geometry) の列を全て抽出してください。\n",
    "結果には、データベース名、テーブル名、地理情報列名を表示してください。\n",
    "<details><summary>Hint</summary><em>dbc.ColumnsV</em> を調べてみてください。</details>\n",
    "<details><summary>Answer</summary><pre style=\"margin: 1em 0; padding: 1em; border-radius: 5px; background-color: #25292f; white-space: pre-wrap;\"><code style=\"background-color: #25292f; color: #ffffff\">SELECT\n",
    "  databaseName, tableName, columnName\n",
    "FROM\n",
    "  dbc.ColumnsV\n",
    "WHERE\n",
    "  columnUDTName = 'ST_GEOMETRY'\n",
    "  AND databaseName IN ('japan', 'facilities', 'TeraShirt')</code></pre></details>"
   ]
  },
  {
   "cell_type": "code",
   "execution_count": null,
   "id": "e453e486",
   "metadata": {},
   "outputs": [],
   "source": [
    "%%tdquiz\n",
    "/* クエリを下記に記載 */\n",
    "\n",
    "\n",
    "\n",
    "\n"
   ]
  }
 ],
 "metadata": {},
 "nbformat": 4,
 "nbformat_minor": 5
}
